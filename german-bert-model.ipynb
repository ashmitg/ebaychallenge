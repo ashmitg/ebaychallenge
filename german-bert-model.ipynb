{
 "cells": [
  {
   "cell_type": "code",
   "execution_count": 1,
   "id": "ac81c3b0",
   "metadata": {
    "_cell_guid": "b1076dfc-b9ad-4769-8c92-a6c4dae69d19",
    "_uuid": "8f2839f25d086af736a60e9eeb907d3b93b6e0e5",
    "execution": {
     "iopub.execute_input": "2023-09-11T07:10:14.997186Z",
     "iopub.status.busy": "2023-09-11T07:10:14.996822Z",
     "iopub.status.idle": "2023-09-11T07:10:40.587639Z",
     "shell.execute_reply": "2023-09-11T07:10:40.586619Z"
    },
    "papermill": {
     "duration": 25.609,
     "end_time": "2023-09-11T07:10:40.590079",
     "exception": false,
     "start_time": "2023-09-11T07:10:14.981079",
     "status": "completed"
    },
    "tags": []
   },
   "outputs": [
    {
     "name": "stdout",
     "output_type": "stream",
     "text": [
      "/kaggle/input/challenge/Listing_Titles.tsv\n",
      "/kaggle/input/challenge/output.tsv\n",
      "/kaggle/input/challenge/Train_Tagged_Titles.tsv\n"
     ]
    }
   ],
   "source": [
    "# This Python 3 environment comes with many helpful analytics libraries installed\n",
    "# It is defined by the kaggle/python Docker image: https://github.com/kaggle/docker-python\n",
    "# For example, here's several helpful packages to load\n",
    "\n",
    "import numpy as np # linear algebra\n",
    "import pandas as pd # data processing, CSV file I/O (e.g. pd.read_csv)\n",
    "\n",
    "# Input data files are available in the read-only \"../input/\" directory\n",
    "# For example, running this (by clicking run or pressing Shift+Enter) will list all files under the input directory\n",
    "\n",
    "import os\n",
    "for dirname, _, filenames in os.walk('/kaggle/input'):\n",
    "    for filename in filenames:\n",
    "        print(os.path.join(dirname, filename))\n",
    "\n",
    "import csv\n",
    "\n",
    "file_path = '/kaggle/input/challenge/Listing_Titles.tsv'\n",
    "\n",
    "# Read the data from the TSV file\n",
    "listing_data = pd.read_csv(file_path, sep=\"\\t\", dtype=str, keep_default_na=False, na_values=[\"\"], quoting=csv.QUOTE_NONE)\n",
    "# You can write up to 20GB to the current directory (/kaggle/working/) that gets preserved as output when you create a version using \"Save & Run All\" \n",
    "# You can also write temporary files to /kaggle/temp/, but they won't be saved outside of the current session"
   ]
  },
  {
   "cell_type": "code",
   "execution_count": 2,
   "id": "a8252a9e",
   "metadata": {
    "execution": {
     "iopub.execute_input": "2023-09-11T07:10:40.622005Z",
     "iopub.status.busy": "2023-09-11T07:10:40.621657Z",
     "iopub.status.idle": "2023-09-11T07:10:57.074761Z",
     "shell.execute_reply": "2023-09-11T07:10:57.073515Z"
    },
    "papermill": {
     "duration": 16.471748,
     "end_time": "2023-09-11T07:10:57.077636",
     "exception": false,
     "start_time": "2023-09-11T07:10:40.605888",
     "status": "completed"
    },
    "tags": []
   },
   "outputs": [
    {
     "name": "stdout",
     "output_type": "stream",
     "text": [
      "Requirement already satisfied: transformers in /opt/conda/lib/python3.10/site-packages (4.33.0)\r\n",
      "Collecting seqeval[gpu]\r\n",
      "  Downloading seqeval-1.2.2.tar.gz (43 kB)\r\n",
      "\u001b[2K     \u001b[90m━━━━━━━━━━━━━━━━━━━━━━━━━━━━━━━━━━━━━━━━\u001b[0m \u001b[32m43.6/43.6 kB\u001b[0m \u001b[31m1.8 MB/s\u001b[0m eta \u001b[36m0:00:00\u001b[0m\r\n",
      "\u001b[?25h  Preparing metadata (setup.py) ... \u001b[?25l-\b \bdone\r\n",
      "\u001b[?25hRequirement already satisfied: tqdm in /opt/conda/lib/python3.10/site-packages (4.66.1)\r\n",
      "Requirement already satisfied: filelock in /opt/conda/lib/python3.10/site-packages (from transformers) (3.12.2)\r\n",
      "Requirement already satisfied: huggingface-hub<1.0,>=0.15.1 in /opt/conda/lib/python3.10/site-packages (from transformers) (0.16.4)\r\n",
      "Requirement already satisfied: numpy>=1.17 in /opt/conda/lib/python3.10/site-packages (from transformers) (1.23.5)\r\n",
      "Requirement already satisfied: packaging>=20.0 in /opt/conda/lib/python3.10/site-packages (from transformers) (21.3)\r\n",
      "Requirement already satisfied: pyyaml>=5.1 in /opt/conda/lib/python3.10/site-packages (from transformers) (6.0)\r\n",
      "Requirement already satisfied: regex!=2019.12.17 in /opt/conda/lib/python3.10/site-packages (from transformers) (2023.6.3)\r\n",
      "Requirement already satisfied: requests in /opt/conda/lib/python3.10/site-packages (from transformers) (2.31.0)\r\n",
      "Requirement already satisfied: tokenizers!=0.11.3,<0.14,>=0.11.1 in /opt/conda/lib/python3.10/site-packages (from transformers) (0.13.3)\r\n",
      "Requirement already satisfied: safetensors>=0.3.1 in /opt/conda/lib/python3.10/site-packages (from transformers) (0.3.3)\r\n",
      "Requirement already satisfied: scikit-learn>=0.21.3 in /opt/conda/lib/python3.10/site-packages (from seqeval[gpu]) (1.2.2)\r\n",
      "Requirement already satisfied: fsspec in /opt/conda/lib/python3.10/site-packages (from huggingface-hub<1.0,>=0.15.1->transformers) (2023.9.0)\r\n",
      "Requirement already satisfied: typing-extensions>=3.7.4.3 in /opt/conda/lib/python3.10/site-packages (from huggingface-hub<1.0,>=0.15.1->transformers) (4.6.3)\r\n",
      "Requirement already satisfied: pyparsing!=3.0.5,>=2.0.2 in /opt/conda/lib/python3.10/site-packages (from packaging>=20.0->transformers) (3.0.9)\r\n",
      "Requirement already satisfied: scipy>=1.3.2 in /opt/conda/lib/python3.10/site-packages (from scikit-learn>=0.21.3->seqeval[gpu]) (1.11.2)\r\n",
      "Requirement already satisfied: joblib>=1.1.1 in /opt/conda/lib/python3.10/site-packages (from scikit-learn>=0.21.3->seqeval[gpu]) (1.3.2)\r\n",
      "Requirement already satisfied: threadpoolctl>=2.0.0 in /opt/conda/lib/python3.10/site-packages (from scikit-learn>=0.21.3->seqeval[gpu]) (3.1.0)\r\n",
      "Requirement already satisfied: charset-normalizer<4,>=2 in /opt/conda/lib/python3.10/site-packages (from requests->transformers) (3.1.0)\r\n",
      "Requirement already satisfied: idna<4,>=2.5 in /opt/conda/lib/python3.10/site-packages (from requests->transformers) (3.4)\r\n",
      "Requirement already satisfied: urllib3<3,>=1.21.1 in /opt/conda/lib/python3.10/site-packages (from requests->transformers) (1.26.15)\r\n",
      "Requirement already satisfied: certifi>=2017.4.17 in /opt/conda/lib/python3.10/site-packages (from requests->transformers) (2023.7.22)\r\n",
      "Building wheels for collected packages: seqeval\r\n",
      "  Building wheel for seqeval (setup.py) ... \u001b[?25l-\b \b\\\b \bdone\r\n",
      "\u001b[?25h  Created wheel for seqeval: filename=seqeval-1.2.2-py3-none-any.whl size=16165 sha256=f933fc3e0b25c80d928facedb0f71506a9ce6308e2e194997dfb31d674b38af7\r\n",
      "  Stored in directory: /root/.cache/pip/wheels/1a/67/4a/ad4082dd7dfc30f2abfe4d80a2ed5926a506eb8a972b4767fa\r\n",
      "Successfully built seqeval\r\n",
      "Installing collected packages: seqeval\r\n",
      "Successfully installed seqeval-1.2.2\r\n"
     ]
    }
   ],
   "source": [
    "!pip install transformers seqeval[gpu] tqdm"
   ]
  },
  {
   "cell_type": "code",
   "execution_count": 3,
   "id": "53c18e92",
   "metadata": {
    "execution": {
     "iopub.execute_input": "2023-09-11T07:10:57.114760Z",
     "iopub.status.busy": "2023-09-11T07:10:57.113731Z",
     "iopub.status.idle": "2023-09-11T07:10:58.624395Z",
     "shell.execute_reply": "2023-09-11T07:10:58.623170Z"
    },
    "papermill": {
     "duration": 1.531998,
     "end_time": "2023-09-11T07:10:58.626950",
     "exception": false,
     "start_time": "2023-09-11T07:10:57.094952",
     "status": "completed"
    },
    "tags": []
   },
   "outputs": [
    {
     "name": "stdout",
     "output_type": "stream",
     "text": [
      "Token will not been saved to git credential helper. Pass `add_to_git_credential=True` if you want to set the git credential as well.\r\n",
      "Token is valid (permission: write).\r\n",
      "Your token has been saved to /root/.cache/huggingface/token\r\n",
      "Login successful\r\n"
     ]
    }
   ],
   "source": [
    "!huggingface-cli login --token #removed"
   ]
  },
  {
   "cell_type": "markdown",
   "id": "af2a126d",
   "metadata": {
    "papermill": {
     "duration": 0.019851,
     "end_time": "2023-09-11T07:10:58.662388",
     "exception": false,
     "start_time": "2023-09-11T07:10:58.642537",
     "status": "completed"
    },
    "tags": []
   },
   "source": []
  },
  {
   "cell_type": "code",
   "execution_count": 4,
   "id": "c8a437a4",
   "metadata": {
    "execution": {
     "iopub.execute_input": "2023-09-11T07:10:58.720456Z",
     "iopub.status.busy": "2023-09-11T07:10:58.718470Z",
     "iopub.status.idle": "2023-09-11T07:10:58.737514Z",
     "shell.execute_reply": "2023-09-11T07:10:58.736049Z"
    },
    "papermill": {
     "duration": 0.055687,
     "end_time": "2023-09-11T07:10:58.741664",
     "exception": false,
     "start_time": "2023-09-11T07:10:58.685977",
     "status": "completed"
    },
    "tags": []
   },
   "outputs": [
    {
     "name": "stdout",
     "output_type": "stream",
     "text": [
      "Nike Air Force 1 07 White Black DH7561102 Nike\n"
     ]
    }
   ],
   "source": [
    "import re\n",
    "\n",
    "def remove_special_characters_from_sentence(sentence):\n",
    "    # Define a regular expression pattern to match all special characters\n",
    "\n",
    "    # Split the sentence into words\n",
    "    words = sentence.split()\n",
    "\n",
    "    # Initialize a list to store cleaned words\n",
    "    cleaned_words = []\n",
    "\n",
    "    # Iterate through the words and remove special characters\n",
    "    for word in words:\n",
    "        # Check if the word has a length greater than one\n",
    "        if len(word) > 1:\n",
    "            # Use re.sub to replace matched special characters with an empty string\n",
    "            \n",
    "            filtered_word = ''\n",
    "            for char in word:\n",
    "                if char.isalpha():  # Check if the character is alphabetical\n",
    "                    filtered_word += char\n",
    "                elif char.isdigit():  # Check if the character is a numerical digit\n",
    "                    filtered_word += char\n",
    "            \n",
    "            \n",
    "            if(len(filtered_word)==0):\n",
    "                cleaned_words.append(word[0])\n",
    "            else:\n",
    "                cleaned_words.append(filtered_word)\n",
    "        else:\n",
    "            # Add the original word as it is if its length is one or less\n",
    "            cleaned_words.append(word)\n",
    "\n",
    "    # Combine the cleaned words to form the modified sentence\n",
    "    modified_sentence = \" \".join(cleaned_words)\n",
    "    \n",
    "    return modified_sentence\n",
    "\n",
    "\n",
    "print(remove_special_characters_from_sentence(\"Nike Air Force 1 '07 White Black DH7561-102\tNike\"))"
   ]
  },
  {
   "cell_type": "code",
   "execution_count": 5,
   "id": "817cfcce",
   "metadata": {
    "execution": {
     "iopub.execute_input": "2023-09-11T07:10:58.785680Z",
     "iopub.status.busy": "2023-09-11T07:10:58.785371Z",
     "iopub.status.idle": "2023-09-11T07:10:59.654114Z",
     "shell.execute_reply": "2023-09-11T07:10:59.653106Z"
    },
    "papermill": {
     "duration": 0.88785,
     "end_time": "2023-09-11T07:10:59.656369",
     "exception": false,
     "start_time": "2023-09-11T07:10:58.768519",
     "status": "completed"
    },
    "tags": []
   },
   "outputs": [
    {
     "data": {
      "text/html": [
       "<div>\n",
       "<style scoped>\n",
       "    .dataframe tbody tr th:only-of-type {\n",
       "        vertical-align: middle;\n",
       "    }\n",
       "\n",
       "    .dataframe tbody tr th {\n",
       "        vertical-align: top;\n",
       "    }\n",
       "\n",
       "    .dataframe thead th {\n",
       "        text-align: right;\n",
       "    }\n",
       "</style>\n",
       "<table border=\"1\" class=\"dataframe\">\n",
       "  <thead>\n",
       "    <tr style=\"text-align: right;\">\n",
       "      <th></th>\n",
       "      <th>sentence</th>\n",
       "      <th>word_labels</th>\n",
       "    </tr>\n",
       "  </thead>\n",
       "  <tbody>\n",
       "    <tr>\n",
       "      <th>0</th>\n",
       "      <td>Supreme Nike SB Dunk High By any Means Red US1...</td>\n",
       "      <td>Modell,Marke,Produktlinie,Produktlinie,Schuhsc...</td>\n",
       "    </tr>\n",
       "    <tr>\n",
       "      <th>1</th>\n",
       "      <td>New Balance 530 Männer und Frauen Laufschuhe m...</td>\n",
       "      <td>Marke,Marke,Modell,Abteilung,0,Abteilung,Produ...</td>\n",
       "    </tr>\n",
       "    <tr>\n",
       "      <th>2</th>\n",
       "      <td>♥ MICHAEL KORS Sneaker Gr 39 ♥</td>\n",
       "      <td>0,Marke,Marke,Stil,0,EU-Schuhgröße,0</td>\n",
       "    </tr>\n",
       "    <tr>\n",
       "      <th>3</th>\n",
       "      <td>New Balance ML 574 EGO Turnschuhe grün</td>\n",
       "      <td>Marke,Marke,Modell,Modell,Modell,Produktart,Farbe</td>\n",
       "    </tr>\n",
       "    <tr>\n",
       "      <th>4</th>\n",
       "      <td>Nike air jordan 9 og , space jam , hare , bugs...</td>\n",
       "      <td>Marke,Produktlinie,Produktlinie,Modell,Modell,...</td>\n",
       "    </tr>\n",
       "  </tbody>\n",
       "</table>\n",
       "</div>"
      ],
      "text/plain": [
       "                                            sentence  \\\n",
       "0  Supreme Nike SB Dunk High By any Means Red US1...   \n",
       "1  New Balance 530 Männer und Frauen Laufschuhe m...   \n",
       "2                     ♥ MICHAEL KORS Sneaker Gr 39 ♥   \n",
       "3             New Balance ML 574 EGO Turnschuhe grün   \n",
       "4  Nike air jordan 9 og , space jam , hare , bugs...   \n",
       "\n",
       "                                         word_labels  \n",
       "0  Modell,Marke,Produktlinie,Produktlinie,Schuhsc...  \n",
       "1  Marke,Marke,Modell,Abteilung,0,Abteilung,Produ...  \n",
       "2               0,Marke,Marke,Stil,0,EU-Schuhgröße,0  \n",
       "3  Marke,Marke,Modell,Modell,Modell,Produktart,Farbe  \n",
       "4  Marke,Produktlinie,Produktlinie,Modell,Modell,...  "
      ]
     },
     "execution_count": 5,
     "metadata": {},
     "output_type": "execute_result"
    }
   ],
   "source": [
    "file_path = '/kaggle/input/challenge/Train_Tagged_Titles.tsv'\n",
    "\n",
    "# Read the data from the TSV file\n",
    "trained_data = pd.read_csv(file_path, sep=\"\\t\", dtype=str, keep_default_na=False, na_values=[\"\"], quoting=csv.QUOTE_NONE)\n",
    "trained_data = trained_data.replace('No Tag', '0')\n",
    "\n",
    "trained_data = trained_data.fillna(method='ffill')\n",
    "trained_data['word_labels'] = trained_data[['Record Number','Tag']].groupby(['Record Number'])['Tag'].transform(lambda x: ','.join(x))\n",
    "data = trained_data[[\"Title\", \"word_labels\"]].drop_duplicates().reset_index(drop=True)\n",
    "data.rename(columns={'Title': 'sentence'}, inplace=True)\n",
    "data['sentence'] = data['sentence'].apply(remove_special_characters_from_sentence)\n",
    "\n",
    "data.head()"
   ]
  },
  {
   "cell_type": "code",
   "execution_count": 6,
   "id": "4924f28a",
   "metadata": {
    "execution": {
     "iopub.execute_input": "2023-09-11T07:10:59.690231Z",
     "iopub.status.busy": "2023-09-11T07:10:59.689938Z",
     "iopub.status.idle": "2023-09-11T07:10:59.708018Z",
     "shell.execute_reply": "2023-09-11T07:10:59.706917Z"
    },
    "papermill": {
     "duration": 0.037011,
     "end_time": "2023-09-11T07:10:59.710180",
     "exception": false,
     "start_time": "2023-09-11T07:10:59.673169",
     "status": "completed"
    },
    "tags": []
   },
   "outputs": [],
   "source": [
    "label2id = {k: v + 1 for v, k in enumerate(trained_data.Tag.unique())}\n",
    "\n",
    "id2label = {v + 1: k for v, k in enumerate(trained_data.Tag.unique())}\n",
    "\n",
    "label2id['0']=0\n"
   ]
  },
  {
   "cell_type": "code",
   "execution_count": 7,
   "id": "42f34184",
   "metadata": {
    "execution": {
     "iopub.execute_input": "2023-09-11T07:10:59.741653Z",
     "iopub.status.busy": "2023-09-11T07:10:59.741285Z",
     "iopub.status.idle": "2023-09-11T07:10:59.745413Z",
     "shell.execute_reply": "2023-09-11T07:10:59.744500Z"
    },
    "papermill": {
     "duration": 0.022244,
     "end_time": "2023-09-11T07:10:59.747525",
     "exception": false,
     "start_time": "2023-09-11T07:10:59.725281",
     "status": "completed"
    },
    "tags": []
   },
   "outputs": [],
   "source": [
    "id2label[0]='0'\n",
    "\n"
   ]
  },
  {
   "cell_type": "code",
   "execution_count": 8,
   "id": "a1fe7b27",
   "metadata": {
    "execution": {
     "iopub.execute_input": "2023-09-11T07:10:59.779600Z",
     "iopub.status.busy": "2023-09-11T07:10:59.779319Z",
     "iopub.status.idle": "2023-09-11T07:11:03.391978Z",
     "shell.execute_reply": "2023-09-11T07:11:03.391045Z"
    },
    "papermill": {
     "duration": 3.631091,
     "end_time": "2023-09-11T07:11:03.394143",
     "exception": false,
     "start_time": "2023-09-11T07:10:59.763052",
     "status": "completed"
    },
    "tags": []
   },
   "outputs": [
    {
     "name": "stdout",
     "output_type": "stream",
     "text": [
      "cuda\n"
     ]
    }
   ],
   "source": [
    "from torch import cuda\n",
    "device = 'cuda' if cuda.is_available() else 'cpu'\n",
    "print(device)"
   ]
  },
  {
   "cell_type": "code",
   "execution_count": 9,
   "id": "88f30ec1",
   "metadata": {
    "execution": {
     "iopub.execute_input": "2023-09-11T07:11:03.426504Z",
     "iopub.status.busy": "2023-09-11T07:11:03.426028Z",
     "iopub.status.idle": "2023-09-11T07:11:03.433283Z",
     "shell.execute_reply": "2023-09-11T07:11:03.432398Z"
    },
    "papermill": {
     "duration": 0.025472,
     "end_time": "2023-09-11T07:11:03.435209",
     "exception": false,
     "start_time": "2023-09-11T07:11:03.409737",
     "status": "completed"
    },
    "tags": []
   },
   "outputs": [
    {
     "data": {
      "text/plain": [
       "'Abteilung,Abteilung,Produktart,Besonderheiten,Gewebeart,Aktivität,Produktart,Stil,EU-Schuhgröße'"
      ]
     },
     "execution_count": 9,
     "metadata": {},
     "output_type": "execute_result"
    }
   ],
   "source": [
    "len(data)\n",
    "data.iloc[23].word_labels\n"
   ]
  },
  {
   "cell_type": "code",
   "execution_count": 10,
   "id": "7e7e4a19",
   "metadata": {
    "execution": {
     "iopub.execute_input": "2023-09-11T07:11:03.467141Z",
     "iopub.status.busy": "2023-09-11T07:11:03.466838Z",
     "iopub.status.idle": "2023-09-11T07:11:03.473400Z",
     "shell.execute_reply": "2023-09-11T07:11:03.472332Z"
    },
    "papermill": {
     "duration": 0.025107,
     "end_time": "2023-09-11T07:11:03.475614",
     "exception": false,
     "start_time": "2023-09-11T07:11:03.450507",
     "status": "completed"
    },
    "tags": []
   },
   "outputs": [
    {
     "data": {
      "text/plain": [
       "'Herren Damenschuhe Laufschuhe Atmungsaktiv Mesh Running Shoes Sneaker Gr3545'"
      ]
     },
     "execution_count": 10,
     "metadata": {},
     "output_type": "execute_result"
    }
   ],
   "source": [
    "data.iloc[23].sentence\n"
   ]
  },
  {
   "cell_type": "code",
   "execution_count": 11,
   "id": "8df02a93",
   "metadata": {
    "execution": {
     "iopub.execute_input": "2023-09-11T07:11:03.551113Z",
     "iopub.status.busy": "2023-09-11T07:11:03.550026Z",
     "iopub.status.idle": "2023-09-11T07:11:14.700354Z",
     "shell.execute_reply": "2023-09-11T07:11:14.699439Z"
    },
    "papermill": {
     "duration": 11.169595,
     "end_time": "2023-09-11T07:11:14.702416",
     "exception": false,
     "start_time": "2023-09-11T07:11:03.532821",
     "status": "completed"
    },
    "tags": []
   },
   "outputs": [
    {
     "name": "stderr",
     "output_type": "stream",
     "text": [
      "/opt/conda/lib/python3.10/site-packages/scipy/__init__.py:146: UserWarning: A NumPy version >=1.16.5 and <1.23.0 is required for this version of SciPy (detected version 1.23.5\n",
      "  warnings.warn(f\"A NumPy version >={np_minversion} and <{np_maxversion}\"\n"
     ]
    },
    {
     "data": {
      "application/vnd.jupyter.widget-view+json": {
       "model_id": "b7aa4db7d2f54e0eb6cd747aacbf5354",
       "version_major": 2,
       "version_minor": 0
      },
      "text/plain": [
       "Downloading (…)solve/main/vocab.txt:   0%|          | 0.00/247k [00:00<?, ?B/s]"
      ]
     },
     "metadata": {},
     "output_type": "display_data"
    },
    {
     "data": {
      "application/vnd.jupyter.widget-view+json": {
       "model_id": "1970bc6e64b64b279111652900bf9d6b",
       "version_major": 2,
       "version_minor": 0
      },
      "text/plain": [
       "Downloading (…)okenizer_config.json:   0%|          | 0.00/59.0 [00:00<?, ?B/s]"
      ]
     },
     "metadata": {},
     "output_type": "display_data"
    },
    {
     "data": {
      "application/vnd.jupyter.widget-view+json": {
       "model_id": "894d7bfc90b1459397eba231ab771afe",
       "version_major": 2,
       "version_minor": 0
      },
      "text/plain": [
       "Downloading (…)lve/main/config.json:   0%|          | 0.00/433 [00:00<?, ?B/s]"
      ]
     },
     "metadata": {},
     "output_type": "display_data"
    }
   ],
   "source": [
    "from sklearn.metrics import accuracy_score\n",
    "import torch\n",
    "from torch.utils.data import Dataset, DataLoader\n",
    "from transformers import BertTokenizer, BertConfig, BertForTokenClassification, BertForMaskedLM\n",
    "from sklearn.model_selection import KFold #implementing kfold\n",
    "\n",
    "MAX_LEN = 128\n",
    "TRAIN_BATCH_SIZE = 4\n",
    "VALID_BATCH_SIZE = 2\n",
    "EPOCHS = 15\n",
    "LEARNING_RATE = 1e-05\n",
    "MAX_GRAD_NORM = 10\n",
    "tokenizer = BertTokenizer.from_pretrained('dbmdz/bert-base-german-uncased')\n"
   ]
  },
  {
   "cell_type": "code",
   "execution_count": 12,
   "id": "ff83a021",
   "metadata": {
    "execution": {
     "iopub.execute_input": "2023-09-11T07:11:14.737221Z",
     "iopub.status.busy": "2023-09-11T07:11:14.736916Z",
     "iopub.status.idle": "2023-09-11T07:11:23.947155Z",
     "shell.execute_reply": "2023-09-11T07:11:23.946067Z"
    },
    "papermill": {
     "duration": 9.230475,
     "end_time": "2023-09-11T07:11:23.949886",
     "exception": false,
     "start_time": "2023-09-11T07:11:14.719411",
     "status": "completed"
    },
    "tags": []
   },
   "outputs": [
    {
     "data": {
      "application/vnd.jupyter.widget-view+json": {
       "model_id": "38028c4145a2486f88bd664e85224199",
       "version_major": 2,
       "version_minor": 0
      },
      "text/plain": [
       "Downloading model.safetensors:   0%|          | 0.00/442M [00:00<?, ?B/s]"
      ]
     },
     "metadata": {},
     "output_type": "display_data"
    },
    {
     "name": "stderr",
     "output_type": "stream",
     "text": [
      "Some weights of the model checkpoint at dbmdz/bert-base-german-uncased were not used when initializing BertForMaskedLM: ['cls.seq_relationship.weight', 'cls.seq_relationship.bias', 'bert.pooler.dense.weight', 'bert.pooler.dense.bias']\n",
      "- This IS expected if you are initializing BertForMaskedLM from the checkpoint of a model trained on another task or with another architecture (e.g. initializing a BertForSequenceClassification model from a BertForPreTraining model).\n",
      "- This IS NOT expected if you are initializing BertForMaskedLM from the checkpoint of a model that you expect to be exactly identical (initializing a BertForSequenceClassification model from a BertForSequenceClassification model).\n"
     ]
    }
   ],
   "source": [
    "model = BertForMaskedLM.from_pretrained('dbmdz/bert-base-german-uncased')"
   ]
  },
  {
   "cell_type": "code",
   "execution_count": 13,
   "id": "783e4a41",
   "metadata": {
    "execution": {
     "iopub.execute_input": "2023-09-11T07:11:23.987332Z",
     "iopub.status.busy": "2023-09-11T07:11:23.986972Z",
     "iopub.status.idle": "2023-09-11T07:11:24.377672Z",
     "shell.execute_reply": "2023-09-11T07:11:24.375500Z"
    },
    "papermill": {
     "duration": 0.412145,
     "end_time": "2023-09-11T07:11:24.381057",
     "exception": false,
     "start_time": "2023-09-11T07:11:23.968912",
     "status": "completed"
    },
    "tags": []
   },
   "outputs": [
    {
     "name": "stderr",
     "output_type": "stream",
     "text": [
      "/tmp/ipykernel_24/3421794491.py:2: SettingWithCopyWarning: \n",
      "A value is trying to be set on a copy of a slice from a DataFrame.\n",
      "Try using .loc[row_indexer,col_indexer] = value instead\n",
      "\n",
      "See the caveats in the documentation: https://pandas.pydata.org/pandas-docs/stable/user_guide/indexing.html#returning-a-view-versus-a-copy\n",
      "  mlm_train['Title'] = mlm_train['Title'].apply(remove_special_characters_from_sentence)\n"
     ]
    },
    {
     "data": {
      "text/html": [
       "<div>\n",
       "<style scoped>\n",
       "    .dataframe tbody tr th:only-of-type {\n",
       "        vertical-align: middle;\n",
       "    }\n",
       "\n",
       "    .dataframe tbody tr th {\n",
       "        vertical-align: top;\n",
       "    }\n",
       "\n",
       "    .dataframe thead th {\n",
       "        text-align: right;\n",
       "    }\n",
       "</style>\n",
       "<table border=\"1\" class=\"dataframe\">\n",
       "  <thead>\n",
       "    <tr style=\"text-align: right;\">\n",
       "      <th></th>\n",
       "      <th>Record Number</th>\n",
       "      <th>Title</th>\n",
       "    </tr>\n",
       "  </thead>\n",
       "  <tbody>\n",
       "    <tr>\n",
       "      <th>5000</th>\n",
       "      <td>5001</td>\n",
       "      <td>NIKE FREE RUN 3 SHIELD 50 SNEAKERS LAUFSCHUHE ...</td>\n",
       "    </tr>\n",
       "    <tr>\n",
       "      <th>5001</th>\n",
       "      <td>5002</td>\n",
       "      <td>DAMEN SCHUHE 153351 SNEAKER WEISS 38 NEU</td>\n",
       "    </tr>\n",
       "    <tr>\n",
       "      <th>5002</th>\n",
       "      <td>5003</td>\n",
       "      <td>Converse Sneakers Damen Gr . DE 36 Leder grau ...</td>\n",
       "    </tr>\n",
       "    <tr>\n",
       "      <th>5003</th>\n",
       "      <td>5004</td>\n",
       "      <td>Adidas Freizeitschuh Gr UK 9</td>\n",
       "    </tr>\n",
       "    <tr>\n",
       "      <th>5004</th>\n",
       "      <td>5005</td>\n",
       "      <td>K Swiss Schuhe schwarz Leder größe 41 low snea...</td>\n",
       "    </tr>\n",
       "  </tbody>\n",
       "</table>\n",
       "</div>"
      ],
      "text/plain": [
       "     Record Number                                              Title\n",
       "5000          5001  NIKE FREE RUN 3 SHIELD 50 SNEAKERS LAUFSCHUHE ...\n",
       "5001          5002           DAMEN SCHUHE 153351 SNEAKER WEISS 38 NEU\n",
       "5002          5003  Converse Sneakers Damen Gr . DE 36 Leder grau ...\n",
       "5003          5004                       Adidas Freizeitschuh Gr UK 9\n",
       "5004          5005  K Swiss Schuhe schwarz Leder größe 41 low snea..."
      ]
     },
     "execution_count": 13,
     "metadata": {},
     "output_type": "execute_result"
    }
   ],
   "source": [
    "mlm_train = listing_data[5000:30000]\n",
    "mlm_train['Title'] = mlm_train['Title'].apply(remove_special_characters_from_sentence)\n",
    "mlm_train.head()"
   ]
  },
  {
   "cell_type": "code",
   "execution_count": 14,
   "id": "2d42b80b",
   "metadata": {
    "execution": {
     "iopub.execute_input": "2023-09-11T07:11:24.417341Z",
     "iopub.status.busy": "2023-09-11T07:11:24.416682Z",
     "iopub.status.idle": "2023-09-11T07:11:24.427517Z",
     "shell.execute_reply": "2023-09-11T07:11:24.426617Z"
    },
    "papermill": {
     "duration": 0.03079,
     "end_time": "2023-09-11T07:11:24.429534",
     "exception": false,
     "start_time": "2023-09-11T07:11:24.398744",
     "status": "completed"
    },
    "tags": []
   },
   "outputs": [
    {
     "data": {
      "text/html": [
       "<div>\n",
       "<style scoped>\n",
       "    .dataframe tbody tr th:only-of-type {\n",
       "        vertical-align: middle;\n",
       "    }\n",
       "\n",
       "    .dataframe tbody tr th {\n",
       "        vertical-align: top;\n",
       "    }\n",
       "\n",
       "    .dataframe thead th {\n",
       "        text-align: right;\n",
       "    }\n",
       "</style>\n",
       "<table border=\"1\" class=\"dataframe\">\n",
       "  <thead>\n",
       "    <tr style=\"text-align: right;\">\n",
       "      <th></th>\n",
       "      <th>Record Number</th>\n",
       "      <th>Title</th>\n",
       "    </tr>\n",
       "  </thead>\n",
       "  <tbody>\n",
       "    <tr>\n",
       "      <th>5000</th>\n",
       "      <td>5001</td>\n",
       "      <td>NIKE FREE RUN 3 SHIELD 50 SNEAKERS LAUFSCHUHE ...</td>\n",
       "    </tr>\n",
       "    <tr>\n",
       "      <th>5001</th>\n",
       "      <td>5002</td>\n",
       "      <td>DAMEN SCHUHE 153351 SNEAKER WEISS 38 NEU</td>\n",
       "    </tr>\n",
       "    <tr>\n",
       "      <th>5002</th>\n",
       "      <td>5003</td>\n",
       "      <td>Converse Sneakers Damen Gr . DE 36 Leder grau ...</td>\n",
       "    </tr>\n",
       "    <tr>\n",
       "      <th>5003</th>\n",
       "      <td>5004</td>\n",
       "      <td>Adidas Freizeitschuh Gr UK 9</td>\n",
       "    </tr>\n",
       "    <tr>\n",
       "      <th>5004</th>\n",
       "      <td>5005</td>\n",
       "      <td>K Swiss Schuhe schwarz Leder größe 41 low snea...</td>\n",
       "    </tr>\n",
       "  </tbody>\n",
       "</table>\n",
       "</div>"
      ],
      "text/plain": [
       "     Record Number                                              Title\n",
       "5000          5001  NIKE FREE RUN 3 SHIELD 50 SNEAKERS LAUFSCHUHE ...\n",
       "5001          5002           DAMEN SCHUHE 153351 SNEAKER WEISS 38 NEU\n",
       "5002          5003  Converse Sneakers Damen Gr . DE 36 Leder grau ...\n",
       "5003          5004                       Adidas Freizeitschuh Gr UK 9\n",
       "5004          5005  K Swiss Schuhe schwarz Leder größe 41 low snea..."
      ]
     },
     "execution_count": 14,
     "metadata": {},
     "output_type": "execute_result"
    }
   ],
   "source": [
    "mlm_train.head()"
   ]
  },
  {
   "cell_type": "code",
   "execution_count": 15,
   "id": "741cbad8",
   "metadata": {
    "execution": {
     "iopub.execute_input": "2023-09-11T07:11:24.466065Z",
     "iopub.status.busy": "2023-09-11T07:11:24.465242Z",
     "iopub.status.idle": "2023-09-11T07:11:24.470428Z",
     "shell.execute_reply": "2023-09-11T07:11:24.469531Z"
    },
    "papermill": {
     "duration": 0.025277,
     "end_time": "2023-09-11T07:11:24.472434",
     "exception": false,
     "start_time": "2023-09-11T07:11:24.447157",
     "status": "completed"
    },
    "tags": []
   },
   "outputs": [],
   "source": [
    "text = mlm_train['Title'].tolist()\n"
   ]
  },
  {
   "cell_type": "code",
   "execution_count": 16,
   "id": "fa2e389c",
   "metadata": {
    "execution": {
     "iopub.execute_input": "2023-09-11T07:11:24.530264Z",
     "iopub.status.busy": "2023-09-11T07:11:24.529351Z",
     "iopub.status.idle": "2023-09-11T07:11:50.869596Z",
     "shell.execute_reply": "2023-09-11T07:11:50.868574Z"
    },
    "papermill": {
     "duration": 26.37657,
     "end_time": "2023-09-11T07:11:50.872727",
     "exception": false,
     "start_time": "2023-09-11T07:11:24.496157",
     "status": "completed"
    },
    "tags": []
   },
   "outputs": [],
   "source": [
    "inputs = tokenizer(text, return_tensors='pt', max_length=512, truncation=True, padding='max_length')\n"
   ]
  },
  {
   "cell_type": "code",
   "execution_count": 17,
   "id": "17fdfbb4",
   "metadata": {
    "execution": {
     "iopub.execute_input": "2023-09-11T07:11:50.926803Z",
     "iopub.status.busy": "2023-09-11T07:11:50.926432Z",
     "iopub.status.idle": "2023-09-11T07:11:51.017523Z",
     "shell.execute_reply": "2023-09-11T07:11:51.016520Z"
    },
    "papermill": {
     "duration": 0.121286,
     "end_time": "2023-09-11T07:11:51.020628",
     "exception": false,
     "start_time": "2023-09-11T07:11:50.899342",
     "status": "completed"
    },
    "tags": []
   },
   "outputs": [],
   "source": [
    "inputs['labels'] = inputs.input_ids.detach().clone()\n"
   ]
  },
  {
   "cell_type": "code",
   "execution_count": 18,
   "id": "7ecea74c",
   "metadata": {
    "execution": {
     "iopub.execute_input": "2023-09-11T07:11:51.074583Z",
     "iopub.status.busy": "2023-09-11T07:11:51.074237Z",
     "iopub.status.idle": "2023-09-11T07:11:51.413868Z",
     "shell.execute_reply": "2023-09-11T07:11:51.412871Z"
    },
    "papermill": {
     "duration": 0.36926,
     "end_time": "2023-09-11T07:11:51.416955",
     "exception": false,
     "start_time": "2023-09-11T07:11:51.047695",
     "status": "completed"
    },
    "tags": []
   },
   "outputs": [],
   "source": [
    "rand = torch.rand(inputs.input_ids.shape)\n",
    "# create mask array\n",
    "mask_arr = (rand < 0.15) * (inputs.input_ids != 101) * \\\n",
    "           (inputs.input_ids != 102) * (inputs.input_ids != 0)"
   ]
  },
  {
   "cell_type": "code",
   "execution_count": 19,
   "id": "7b97bd28",
   "metadata": {
    "execution": {
     "iopub.execute_input": "2023-09-11T07:11:51.469779Z",
     "iopub.status.busy": "2023-09-11T07:11:51.469402Z",
     "iopub.status.idle": "2023-09-11T07:11:51.854582Z",
     "shell.execute_reply": "2023-09-11T07:11:51.853619Z"
    },
    "papermill": {
     "duration": 0.413643,
     "end_time": "2023-09-11T07:11:51.856929",
     "exception": false,
     "start_time": "2023-09-11T07:11:51.443286",
     "status": "completed"
    },
    "tags": []
   },
   "outputs": [],
   "source": [
    "selection = []\n",
    "\n",
    "for i in range(inputs.input_ids.shape[0]):\n",
    "    selection.append(\n",
    "        torch.flatten(mask_arr[i].nonzero()).tolist()\n",
    "    )"
   ]
  },
  {
   "cell_type": "code",
   "execution_count": 20,
   "id": "99776f87",
   "metadata": {
    "execution": {
     "iopub.execute_input": "2023-09-11T07:11:51.895260Z",
     "iopub.status.busy": "2023-09-11T07:11:51.893642Z",
     "iopub.status.idle": "2023-09-11T07:11:52.317148Z",
     "shell.execute_reply": "2023-09-11T07:11:52.316130Z"
    },
    "papermill": {
     "duration": 0.449027,
     "end_time": "2023-09-11T07:11:52.323980",
     "exception": false,
     "start_time": "2023-09-11T07:11:51.874953",
     "status": "completed"
    },
    "tags": []
   },
   "outputs": [],
   "source": [
    "for i in range(inputs.input_ids.shape[0]):\n",
    "    inputs.input_ids[i, selection[i]] = 103"
   ]
  },
  {
   "cell_type": "code",
   "execution_count": 21,
   "id": "54516cef",
   "metadata": {
    "execution": {
     "iopub.execute_input": "2023-09-11T07:11:52.361847Z",
     "iopub.status.busy": "2023-09-11T07:11:52.360852Z",
     "iopub.status.idle": "2023-09-11T07:11:52.367491Z",
     "shell.execute_reply": "2023-09-11T07:11:52.366622Z"
    },
    "papermill": {
     "duration": 0.027613,
     "end_time": "2023-09-11T07:11:52.369583",
     "exception": false,
     "start_time": "2023-09-11T07:11:52.341970",
     "status": "completed"
    },
    "tags": []
   },
   "outputs": [],
   "source": [
    "class Dataset(torch.utils.data.Dataset):\n",
    "    def __init__(self, encodings):\n",
    "        self.encodings = encodings\n",
    "    def __getitem__(self, idx):\n",
    "        return {key: torch.tensor(val[idx]) for key, val in self.encodings.items()}\n",
    "    def __len__(self):\n",
    "        return len(self.encodings.input_ids)\n",
    "\n",
    "dataset = Dataset(inputs)\n"
   ]
  },
  {
   "cell_type": "code",
   "execution_count": 22,
   "id": "d70627fe",
   "metadata": {
    "execution": {
     "iopub.execute_input": "2023-09-11T07:11:52.406507Z",
     "iopub.status.busy": "2023-09-11T07:11:52.406223Z",
     "iopub.status.idle": "2023-09-11T07:11:52.416403Z",
     "shell.execute_reply": "2023-09-11T07:11:52.415546Z"
    },
    "papermill": {
     "duration": 0.031023,
     "end_time": "2023-09-11T07:11:52.418446",
     "exception": false,
     "start_time": "2023-09-11T07:11:52.387423",
     "status": "completed"
    },
    "tags": []
   },
   "outputs": [],
   "source": [
    "\n",
    "from transformers import TrainingArguments\n",
    "\n",
    "args = TrainingArguments(\n",
    "    output_dir='out',\n",
    "    per_device_train_batch_size=16,\n",
    "    num_train_epochs=4,\n",
    "     report_to='none'  \n",
    ")"
   ]
  },
  {
   "cell_type": "code",
   "execution_count": 23,
   "id": "89cae387",
   "metadata": {
    "execution": {
     "iopub.execute_input": "2023-09-11T07:11:52.455093Z",
     "iopub.status.busy": "2023-09-11T07:11:52.454836Z",
     "iopub.status.idle": "2023-09-11T07:11:58.236062Z",
     "shell.execute_reply": "2023-09-11T07:11:58.235033Z"
    },
    "papermill": {
     "duration": 5.802592,
     "end_time": "2023-09-11T07:11:58.238778",
     "exception": false,
     "start_time": "2023-09-11T07:11:52.436186",
     "status": "completed"
    },
    "tags": []
   },
   "outputs": [],
   "source": [
    "\n",
    "from transformers import Trainer\n",
    "\n",
    "trainer = Trainer(\n",
    "    model=model,\n",
    "    args=args,\n",
    "    train_dataset=dataset\n",
    ")"
   ]
  },
  {
   "cell_type": "code",
   "execution_count": 24,
   "id": "eb1851bd",
   "metadata": {
    "execution": {
     "iopub.execute_input": "2023-09-11T07:11:58.277474Z",
     "iopub.status.busy": "2023-09-11T07:11:58.276822Z",
     "iopub.status.idle": "2023-09-11T08:59:07.811748Z",
     "shell.execute_reply": "2023-09-11T08:59:07.810642Z"
    },
    "papermill": {
     "duration": 6429.556292,
     "end_time": "2023-09-11T08:59:07.813819",
     "exception": false,
     "start_time": "2023-09-11T07:11:58.257527",
     "status": "completed"
    },
    "tags": []
   },
   "outputs": [
    {
     "name": "stderr",
     "output_type": "stream",
     "text": [
      "/tmp/ipykernel_24/1270244574.py:5: UserWarning: To copy construct from a tensor, it is recommended to use sourceTensor.clone().detach() or sourceTensor.clone().detach().requires_grad_(True), rather than torch.tensor(sourceTensor).\n",
      "  return {key: torch.tensor(val[idx]) for key, val in self.encodings.items()}\n"
     ]
    },
    {
     "data": {
      "text/html": [
       "\n",
       "    <div>\n",
       "      \n",
       "      <progress value='6252' max='6252' style='width:300px; height:20px; vertical-align: middle;'></progress>\n",
       "      [6252/6252 1:47:06, Epoch 4/4]\n",
       "    </div>\n",
       "    <table border=\"1\" class=\"dataframe\">\n",
       "  <thead>\n",
       " <tr style=\"text-align: left;\">\n",
       "      <th>Step</th>\n",
       "      <th>Training Loss</th>\n",
       "    </tr>\n",
       "  </thead>\n",
       "  <tbody>\n",
       "    <tr>\n",
       "      <td>500</td>\n",
       "      <td>0.101200</td>\n",
       "    </tr>\n",
       "    <tr>\n",
       "      <td>1000</td>\n",
       "      <td>0.016500</td>\n",
       "    </tr>\n",
       "    <tr>\n",
       "      <td>1500</td>\n",
       "      <td>0.015200</td>\n",
       "    </tr>\n",
       "    <tr>\n",
       "      <td>2000</td>\n",
       "      <td>0.012800</td>\n",
       "    </tr>\n",
       "    <tr>\n",
       "      <td>2500</td>\n",
       "      <td>0.012300</td>\n",
       "    </tr>\n",
       "    <tr>\n",
       "      <td>3000</td>\n",
       "      <td>0.012000</td>\n",
       "    </tr>\n",
       "    <tr>\n",
       "      <td>3500</td>\n",
       "      <td>0.010100</td>\n",
       "    </tr>\n",
       "    <tr>\n",
       "      <td>4000</td>\n",
       "      <td>0.009600</td>\n",
       "    </tr>\n",
       "    <tr>\n",
       "      <td>4500</td>\n",
       "      <td>0.009500</td>\n",
       "    </tr>\n",
       "    <tr>\n",
       "      <td>5000</td>\n",
       "      <td>0.008000</td>\n",
       "    </tr>\n",
       "    <tr>\n",
       "      <td>5500</td>\n",
       "      <td>0.007300</td>\n",
       "    </tr>\n",
       "    <tr>\n",
       "      <td>6000</td>\n",
       "      <td>0.007400</td>\n",
       "    </tr>\n",
       "  </tbody>\n",
       "</table><p>"
      ],
      "text/plain": [
       "<IPython.core.display.HTML object>"
      ]
     },
     "metadata": {},
     "output_type": "display_data"
    },
    {
     "name": "stderr",
     "output_type": "stream",
     "text": [
      "/tmp/ipykernel_24/1270244574.py:5: UserWarning: To copy construct from a tensor, it is recommended to use sourceTensor.clone().detach() or sourceTensor.clone().detach().requires_grad_(True), rather than torch.tensor(sourceTensor).\n",
      "  return {key: torch.tensor(val[idx]) for key, val in self.encodings.items()}\n",
      "/tmp/ipykernel_24/1270244574.py:5: UserWarning: To copy construct from a tensor, it is recommended to use sourceTensor.clone().detach() or sourceTensor.clone().detach().requires_grad_(True), rather than torch.tensor(sourceTensor).\n",
      "  return {key: torch.tensor(val[idx]) for key, val in self.encodings.items()}\n",
      "/tmp/ipykernel_24/1270244574.py:5: UserWarning: To copy construct from a tensor, it is recommended to use sourceTensor.clone().detach() or sourceTensor.clone().detach().requires_grad_(True), rather than torch.tensor(sourceTensor).\n",
      "  return {key: torch.tensor(val[idx]) for key, val in self.encodings.items()}\n",
      "/tmp/ipykernel_24/1270244574.py:5: UserWarning: To copy construct from a tensor, it is recommended to use sourceTensor.clone().detach() or sourceTensor.clone().detach().requires_grad_(True), rather than torch.tensor(sourceTensor).\n",
      "  return {key: torch.tensor(val[idx]) for key, val in self.encodings.items()}\n",
      "/tmp/ipykernel_24/1270244574.py:5: UserWarning: To copy construct from a tensor, it is recommended to use sourceTensor.clone().detach() or sourceTensor.clone().detach().requires_grad_(True), rather than torch.tensor(sourceTensor).\n",
      "  return {key: torch.tensor(val[idx]) for key, val in self.encodings.items()}\n",
      "/tmp/ipykernel_24/1270244574.py:5: UserWarning: To copy construct from a tensor, it is recommended to use sourceTensor.clone().detach() or sourceTensor.clone().detach().requires_grad_(True), rather than torch.tensor(sourceTensor).\n",
      "  return {key: torch.tensor(val[idx]) for key, val in self.encodings.items()}\n",
      "/tmp/ipykernel_24/1270244574.py:5: UserWarning: To copy construct from a tensor, it is recommended to use sourceTensor.clone().detach() or sourceTensor.clone().detach().requires_grad_(True), rather than torch.tensor(sourceTensor).\n",
      "  return {key: torch.tensor(val[idx]) for key, val in self.encodings.items()}\n",
      "/tmp/ipykernel_24/1270244574.py:5: UserWarning: To copy construct from a tensor, it is recommended to use sourceTensor.clone().detach() or sourceTensor.clone().detach().requires_grad_(True), rather than torch.tensor(sourceTensor).\n",
      "  return {key: torch.tensor(val[idx]) for key, val in self.encodings.items()}\n",
      "/tmp/ipykernel_24/1270244574.py:5: UserWarning: To copy construct from a tensor, it is recommended to use sourceTensor.clone().detach() or sourceTensor.clone().detach().requires_grad_(True), rather than torch.tensor(sourceTensor).\n",
      "  return {key: torch.tensor(val[idx]) for key, val in self.encodings.items()}\n",
      "/tmp/ipykernel_24/1270244574.py:5: UserWarning: To copy construct from a tensor, it is recommended to use sourceTensor.clone().detach() or sourceTensor.clone().detach().requires_grad_(True), rather than torch.tensor(sourceTensor).\n",
      "  return {key: torch.tensor(val[idx]) for key, val in self.encodings.items()}\n",
      "/tmp/ipykernel_24/1270244574.py:5: UserWarning: To copy construct from a tensor, it is recommended to use sourceTensor.clone().detach() or sourceTensor.clone().detach().requires_grad_(True), rather than torch.tensor(sourceTensor).\n",
      "  return {key: torch.tensor(val[idx]) for key, val in self.encodings.items()}\n",
      "/tmp/ipykernel_24/1270244574.py:5: UserWarning: To copy construct from a tensor, it is recommended to use sourceTensor.clone().detach() or sourceTensor.clone().detach().requires_grad_(True), rather than torch.tensor(sourceTensor).\n",
      "  return {key: torch.tensor(val[idx]) for key, val in self.encodings.items()}\n"
     ]
    },
    {
     "data": {
      "text/plain": [
       "TrainOutput(global_step=6252, training_loss=0.018037672959606538, metrics={'train_runtime': 6429.2492, 'train_samples_per_second': 15.554, 'train_steps_per_second': 0.972, 'total_flos': 2.6320659456e+16, 'train_loss': 0.018037672959606538, 'epoch': 4.0})"
      ]
     },
     "execution_count": 24,
     "metadata": {},
     "output_type": "execute_result"
    }
   ],
   "source": [
    "trainer.train()\n"
   ]
  },
  {
   "cell_type": "code",
   "execution_count": 25,
   "id": "552cb5f1",
   "metadata": {
    "execution": {
     "iopub.execute_input": "2023-09-11T08:59:07.854283Z",
     "iopub.status.busy": "2023-09-11T08:59:07.853592Z",
     "iopub.status.idle": "2023-09-11T08:59:08.643560Z",
     "shell.execute_reply": "2023-09-11T08:59:08.642639Z"
    },
    "papermill": {
     "duration": 0.812798,
     "end_time": "2023-09-11T08:59:08.646106",
     "exception": false,
     "start_time": "2023-09-11T08:59:07.833308",
     "status": "completed"
    },
    "tags": []
   },
   "outputs": [
    {
     "data": {
      "text/plain": [
       "('downstream-german-bert/tokenizer_config.json',\n",
       " 'downstream-german-bert/special_tokens_map.json',\n",
       " 'downstream-german-bert/vocab.txt',\n",
       " 'downstream-german-bert/added_tokens.json')"
      ]
     },
     "execution_count": 25,
     "metadata": {},
     "output_type": "execute_result"
    }
   ],
   "source": [
    "model.save_pretrained(\"downstream-german-bert\")\n",
    "tokenizer.save_pretrained(\"downstream-german-bert\")\n"
   ]
  },
  {
   "cell_type": "code",
   "execution_count": 26,
   "id": "a608f003",
   "metadata": {
    "execution": {
     "iopub.execute_input": "2023-09-11T08:59:08.714068Z",
     "iopub.status.busy": "2023-09-11T08:59:08.712290Z",
     "iopub.status.idle": "2023-09-11T08:59:08.777736Z",
     "shell.execute_reply": "2023-09-11T08:59:08.776725Z"
    },
    "papermill": {
     "duration": 0.105376,
     "end_time": "2023-09-11T08:59:08.780326",
     "exception": false,
     "start_time": "2023-09-11T08:59:08.674950",
     "status": "completed"
    },
    "tags": []
   },
   "outputs": [],
   "source": [
    "tokenizer = BertTokenizer.from_pretrained(\"downstream-german-bert\")\n",
    "\n",
    "#use the model that was just saved on next word prediction"
   ]
  },
  {
   "cell_type": "code",
   "execution_count": 27,
   "id": "facae1c1",
   "metadata": {
    "execution": {
     "iopub.execute_input": "2023-09-11T08:59:08.828467Z",
     "iopub.status.busy": "2023-09-11T08:59:08.826968Z",
     "iopub.status.idle": "2023-09-11T08:59:08.834352Z",
     "shell.execute_reply": "2023-09-11T08:59:08.833492Z"
    },
    "papermill": {
     "duration": 0.035891,
     "end_time": "2023-09-11T08:59:08.836401",
     "exception": false,
     "start_time": "2023-09-11T08:59:08.800510",
     "status": "completed"
    },
    "tags": []
   },
   "outputs": [],
   "source": [
    "def tokenize_and_preserve_labels(sentence, text_labels, tokenizer):\n",
    "\n",
    "\n",
    "    tokenized_sentence = []\n",
    "    labels = []\n",
    "\n",
    "    sentence = sentence.strip()\n",
    "\n",
    "    for word, label in zip(sentence.split(' '), text_labels.split(\",\")):\n",
    "\n",
    "        tokenized_word = tokenizer.tokenize(word)\n",
    "        n_subwords = len(tokenized_word)\n",
    "\n",
    "        tokenized_sentence.extend(tokenized_word)\n",
    "\n",
    "        labels.extend([label] * n_subwords)\n",
    "    return tokenized_sentence, labels\n",
    "#this function is used to tokenize the sentence and preserve the labels for each word in the sentence"
   ]
  },
  {
   "cell_type": "code",
   "execution_count": 28,
   "id": "c5da9d41",
   "metadata": {
    "execution": {
     "iopub.execute_input": "2023-09-11T08:59:08.877264Z",
     "iopub.status.busy": "2023-09-11T08:59:08.876929Z",
     "iopub.status.idle": "2023-09-11T08:59:08.887470Z",
     "shell.execute_reply": "2023-09-11T08:59:08.886560Z"
    },
    "papermill": {
     "duration": 0.033724,
     "end_time": "2023-09-11T08:59:08.889543",
     "exception": false,
     "start_time": "2023-09-11T08:59:08.855819",
     "status": "completed"
    },
    "tags": []
   },
   "outputs": [],
   "source": [
    "class dataset(Dataset):\n",
    "    def __init__(self, dataframe, tokenizer, max_len):\n",
    "        self.len = len(dataframe)\n",
    "        self.data = dataframe\n",
    "        self.tokenizer = tokenizer\n",
    "        self.max_len = max_len\n",
    "        \n",
    "    def __getitem__(self, index):\n",
    "        sentence = self.data.sentence[index]  \n",
    "        word_labels = self.data.word_labels[index]  \n",
    "        tokenized_sentence, labels = tokenize_and_preserve_labels(sentence, word_labels, self.tokenizer)\n",
    "        \n",
    "        tokenized_sentence = [\"[CLS]\"] + tokenized_sentence + [\"[SEP]\"] # add special tokens\n",
    "        labels.insert(0, \"0\") # add outside label for [CLS] token\n",
    "        labels.insert(-1, \"0\") # add outside label for [SEP] token\n",
    "\n",
    "        maxlen = self.max_len\n",
    "\n",
    "        if (len(tokenized_sentence) > maxlen):\n",
    "          tokenized_sentence = tokenized_sentence[:maxlen]\n",
    "          labels = labels[:maxlen]\n",
    "        else:\n",
    "          tokenized_sentence = tokenized_sentence + ['[PAD]'for _ in range(maxlen - len(tokenized_sentence))]\n",
    "          labels = labels + [\"0\" for _ in range(maxlen - len(labels))]\n",
    "\n",
    "        attn_mask = [1 if tok != '[PAD]' else 0 for tok in tokenized_sentence]\n",
    "        \n",
    "        ids = self.tokenizer.convert_tokens_to_ids(tokenized_sentence)\n",
    "\n",
    "        label_ids = [label2id[label] for label in labels]\n",
    "        \n",
    "        \n",
    "        return {\n",
    "              'ids': torch.tensor(ids, dtype=torch.long),\n",
    "              'mask': torch.tensor(attn_mask, dtype=torch.long),\n",
    "              #'token_type_ids': torch.tensor(token_ids, dtype=torch.long),\n",
    "              'targets': torch.tensor(label_ids, dtype=torch.long)\n",
    "        } \n",
    "    \n",
    "    def __len__(self):\n",
    "        return self.len\n",
    "  #this function is used to tokenize the sentence and preserve the labels for each word in the sentence. It also adds the special tokens [CLS] and [SEP] to the sentence and the outside label for these tokens. It also pads the sentence and the labels to the max length of the sentence. It also creates the attention mask for the sentence. It also converts the tokens to ids and the labels to ids."
   ]
  },
  {
   "cell_type": "code",
   "execution_count": 29,
   "id": "e477353a",
   "metadata": {
    "execution": {
     "iopub.execute_input": "2023-09-11T08:59:08.929746Z",
     "iopub.status.busy": "2023-09-11T08:59:08.929307Z",
     "iopub.status.idle": "2023-09-11T08:59:08.935065Z",
     "shell.execute_reply": "2023-09-11T08:59:08.934187Z"
    },
    "papermill": {
     "duration": 0.028416,
     "end_time": "2023-09-11T08:59:08.937292",
     "exception": false,
     "start_time": "2023-09-11T08:59:08.908876",
     "status": "completed"
    },
    "tags": []
   },
   "outputs": [],
   "source": [
    "kfold = KFold(n_splits=5, shuffle=True, random_state=1)\n",
    "#this is used to implement kfold cross validation"
   ]
  },
  {
   "cell_type": "code",
   "execution_count": 30,
   "id": "67378c1c",
   "metadata": {
    "execution": {
     "iopub.execute_input": "2023-09-11T08:59:08.978888Z",
     "iopub.status.busy": "2023-09-11T08:59:08.978588Z",
     "iopub.status.idle": "2023-09-11T08:59:08.994908Z",
     "shell.execute_reply": "2023-09-11T08:59:08.993631Z"
    },
    "papermill": {
     "duration": 0.039299,
     "end_time": "2023-09-11T08:59:08.997110",
     "exception": false,
     "start_time": "2023-09-11T08:59:08.957811",
     "status": "completed"
    },
    "tags": []
   },
   "outputs": [
    {
     "name": "stdout",
     "output_type": "stream",
     "text": [
      "FULL Dataset: (5000, 2)\n",
      "TRAIN Dataset: (4950, 2)\n",
      "TEST Dataset: (50, 2)\n"
     ]
    }
   ],
   "source": [
    "train_size = 0.99\n",
    "train_dataset = data.sample(frac=train_size,random_state=200)\n",
    "test_dataset = data.drop(train_dataset.index).reset_index(drop=True)\n",
    "train_dataset = train_dataset.reset_index(drop=True)\n",
    "\n",
    "print(\"FULL Dataset: {}\".format(data.shape))\n",
    "print(\"TRAIN Dataset: {}\".format(train_dataset.shape))\n",
    "print(\"TEST Dataset: {}\".format(test_dataset.shape))\n",
    "\n",
    "training_set = dataset(train_dataset, tokenizer, MAX_LEN)\n",
    "testing_set = dataset(test_dataset, tokenizer, MAX_LEN)\n",
    "\n",
    "#this is used to create the training and testing dataset"
   ]
  },
  {
   "cell_type": "code",
   "execution_count": 31,
   "id": "4d4a96f3",
   "metadata": {
    "execution": {
     "iopub.execute_input": "2023-09-11T08:59:09.037896Z",
     "iopub.status.busy": "2023-09-11T08:59:09.037616Z",
     "iopub.status.idle": "2023-09-11T08:59:09.059240Z",
     "shell.execute_reply": "2023-09-11T08:59:09.058182Z"
    },
    "papermill": {
     "duration": 0.044497,
     "end_time": "2023-09-11T08:59:09.061425",
     "exception": false,
     "start_time": "2023-09-11T08:59:09.016928",
     "status": "completed"
    },
    "tags": []
   },
   "outputs": [
    {
     "data": {
      "text/plain": [
       "{'ids': tensor([  102, 27677,   195,  4606,  2835,  3114, 15709,   806, 16731,   108,\n",
       "         12376, 30937,   806,  7565,   806,  4192, 15709,   806,  5838,  1061,\n",
       "          6949,   103,     0,     0,     0,     0,     0,     0,     0,     0,\n",
       "             0,     0,     0,     0,     0,     0,     0,     0,     0,     0,\n",
       "             0,     0,     0,     0,     0,     0,     0,     0,     0,     0,\n",
       "             0,     0,     0,     0,     0,     0,     0,     0,     0,     0,\n",
       "             0,     0,     0,     0,     0,     0,     0,     0,     0,     0,\n",
       "             0,     0,     0,     0,     0,     0,     0,     0,     0,     0,\n",
       "             0,     0,     0,     0,     0,     0,     0,     0,     0,     0,\n",
       "             0,     0,     0,     0,     0,     0,     0,     0,     0,     0,\n",
       "             0,     0,     0,     0,     0,     0,     0,     0,     0,     0,\n",
       "             0,     0,     0,     0,     0,     0,     0,     0,     0,     0,\n",
       "             0,     0,     0,     0,     0,     0,     0,     0]),\n",
       " 'mask': tensor([1, 1, 1, 1, 1, 1, 1, 1, 1, 1, 1, 1, 1, 1, 1, 1, 1, 1, 1, 1, 1, 1, 0, 0,\n",
       "         0, 0, 0, 0, 0, 0, 0, 0, 0, 0, 0, 0, 0, 0, 0, 0, 0, 0, 0, 0, 0, 0, 0, 0,\n",
       "         0, 0, 0, 0, 0, 0, 0, 0, 0, 0, 0, 0, 0, 0, 0, 0, 0, 0, 0, 0, 0, 0, 0, 0,\n",
       "         0, 0, 0, 0, 0, 0, 0, 0, 0, 0, 0, 0, 0, 0, 0, 0, 0, 0, 0, 0, 0, 0, 0, 0,\n",
       "         0, 0, 0, 0, 0, 0, 0, 0, 0, 0, 0, 0, 0, 0, 0, 0, 0, 0, 0, 0, 0, 0, 0, 0,\n",
       "         0, 0, 0, 0, 0, 0, 0, 0]),\n",
       " 'targets': tensor([ 0,  2,  2, 10, 11, 11, 11,  0, 11, 11, 11, 11,  0, 20,  0, 11, 11,  0,\n",
       "          5,  0,  0,  0,  0,  0,  0,  0,  0,  0,  0,  0,  0,  0,  0,  0,  0,  0,\n",
       "          0,  0,  0,  0,  0,  0,  0,  0,  0,  0,  0,  0,  0,  0,  0,  0,  0,  0,\n",
       "          0,  0,  0,  0,  0,  0,  0,  0,  0,  0,  0,  0,  0,  0,  0,  0,  0,  0,\n",
       "          0,  0,  0,  0,  0,  0,  0,  0,  0,  0,  0,  0,  0,  0,  0,  0,  0,  0,\n",
       "          0,  0,  0,  0,  0,  0,  0,  0,  0,  0,  0,  0,  0,  0,  0,  0,  0,  0,\n",
       "          0,  0,  0,  0,  0,  0,  0,  0,  0,  0,  0,  0,  0,  0,  0,  0,  0,  0,\n",
       "          0,  0])}"
      ]
     },
     "execution_count": 31,
     "metadata": {},
     "output_type": "execute_result"
    }
   ],
   "source": [
    "training_set[10]\n"
   ]
  },
  {
   "cell_type": "code",
   "execution_count": 32,
   "id": "64c0b84c",
   "metadata": {
    "execution": {
     "iopub.execute_input": "2023-09-11T08:59:09.104370Z",
     "iopub.status.busy": "2023-09-11T08:59:09.104084Z",
     "iopub.status.idle": "2023-09-11T08:59:09.109399Z",
     "shell.execute_reply": "2023-09-11T08:59:09.108461Z"
    },
    "papermill": {
     "duration": 0.030023,
     "end_time": "2023-09-11T08:59:09.111414",
     "exception": false,
     "start_time": "2023-09-11T08:59:09.081391",
     "status": "completed"
    },
    "tags": []
   },
   "outputs": [],
   "source": [
    "train_params = {'batch_size': TRAIN_BATCH_SIZE,\n",
    "                'shuffle': True,\n",
    "                'num_workers': 0\n",
    "                }\n",
    "\n",
    "test_params = {'batch_size': VALID_BATCH_SIZE,\n",
    "                'shuffle': True,\n",
    "                'num_workers': 0\n",
    "                }\n",
    "\n",
    "training_loader = DataLoader(training_set, **train_params)\n",
    "testing_loader = DataLoader(testing_set, **test_params)\n",
    "\n",
    "#this is used to create the training and testing dataloader"
   ]
  },
  {
   "cell_type": "code",
   "execution_count": 33,
   "id": "29b3ac37",
   "metadata": {
    "execution": {
     "iopub.execute_input": "2023-09-11T08:59:09.153655Z",
     "iopub.status.busy": "2023-09-11T08:59:09.153290Z",
     "iopub.status.idle": "2023-09-11T08:59:10.754641Z",
     "shell.execute_reply": "2023-09-11T08:59:10.753585Z"
    },
    "papermill": {
     "duration": 1.625472,
     "end_time": "2023-09-11T08:59:10.756954",
     "exception": false,
     "start_time": "2023-09-11T08:59:09.131482",
     "status": "completed"
    },
    "tags": []
   },
   "outputs": [
    {
     "name": "stderr",
     "output_type": "stream",
     "text": [
      "Some weights of BertForTokenClassification were not initialized from the model checkpoint at downstream-german-bert and are newly initialized: ['classifier.bias', 'classifier.weight']\n",
      "You should probably TRAIN this model on a down-stream task to be able to use it for predictions and inference.\n"
     ]
    },
    {
     "data": {
      "text/plain": [
       "BertForTokenClassification(\n",
       "  (bert): BertModel(\n",
       "    (embeddings): BertEmbeddings(\n",
       "      (word_embeddings): Embedding(31102, 768, padding_idx=0)\n",
       "      (position_embeddings): Embedding(512, 768)\n",
       "      (token_type_embeddings): Embedding(2, 768)\n",
       "      (LayerNorm): LayerNorm((768,), eps=1e-12, elementwise_affine=True)\n",
       "      (dropout): Dropout(p=0.1, inplace=False)\n",
       "    )\n",
       "    (encoder): BertEncoder(\n",
       "      (layer): ModuleList(\n",
       "        (0-11): 12 x BertLayer(\n",
       "          (attention): BertAttention(\n",
       "            (self): BertSelfAttention(\n",
       "              (query): Linear(in_features=768, out_features=768, bias=True)\n",
       "              (key): Linear(in_features=768, out_features=768, bias=True)\n",
       "              (value): Linear(in_features=768, out_features=768, bias=True)\n",
       "              (dropout): Dropout(p=0.1, inplace=False)\n",
       "            )\n",
       "            (output): BertSelfOutput(\n",
       "              (dense): Linear(in_features=768, out_features=768, bias=True)\n",
       "              (LayerNorm): LayerNorm((768,), eps=1e-12, elementwise_affine=True)\n",
       "              (dropout): Dropout(p=0.1, inplace=False)\n",
       "            )\n",
       "          )\n",
       "          (intermediate): BertIntermediate(\n",
       "            (dense): Linear(in_features=768, out_features=3072, bias=True)\n",
       "            (intermediate_act_fn): GELUActivation()\n",
       "          )\n",
       "          (output): BertOutput(\n",
       "            (dense): Linear(in_features=3072, out_features=768, bias=True)\n",
       "            (LayerNorm): LayerNorm((768,), eps=1e-12, elementwise_affine=True)\n",
       "            (dropout): Dropout(p=0.1, inplace=False)\n",
       "          )\n",
       "        )\n",
       "      )\n",
       "    )\n",
       "  )\n",
       "  (dropout): Dropout(p=0.1, inplace=False)\n",
       "  (classifier): Linear(in_features=768, out_features=37, bias=True)\n",
       ")"
      ]
     },
     "execution_count": 33,
     "metadata": {},
     "output_type": "execute_result"
    }
   ],
   "source": [
    "model = BertForTokenClassification.from_pretrained('downstream-german-bert', \n",
    "                                                   num_labels=len(id2label),\n",
    "                                                   id2label=id2label,\n",
    "                                                   label2id=label2id)\n",
    "model.to(device)\n",
    "\n",
    "#this is used to create the model for the token classification task. It uses the pretrained model that was saved earlier. It also uses the id2label and label2id dictionaries that were created earlier."
   ]
  },
  {
   "cell_type": "code",
   "execution_count": 34,
   "id": "72cf759c",
   "metadata": {
    "execution": {
     "iopub.execute_input": "2023-09-11T08:59:10.801174Z",
     "iopub.status.busy": "2023-09-11T08:59:10.800212Z",
     "iopub.status.idle": "2023-09-11T08:59:10.871469Z",
     "shell.execute_reply": "2023-09-11T08:59:10.870560Z"
    },
    "papermill": {
     "duration": 0.095221,
     "end_time": "2023-09-11T08:59:10.873607",
     "exception": false,
     "start_time": "2023-09-11T08:59:10.778386",
     "status": "completed"
    },
    "tags": []
   },
   "outputs": [
    {
     "data": {
      "text/plain": [
       "tensor(3.1844, device='cuda:0', grad_fn=<NllLossBackward0>)"
      ]
     },
     "execution_count": 34,
     "metadata": {},
     "output_type": "execute_result"
    }
   ],
   "source": [
    "ids = training_set[0][\"ids\"].unsqueeze(0)\n",
    "mask = training_set[0][\"mask\"].unsqueeze(0)\n",
    "targets = training_set[0][\"targets\"].unsqueeze(0)\n",
    "ids = ids.to(device)\n",
    "mask = mask.to(device)\n",
    "targets = targets.to(device)\n",
    "outputs = model(input_ids=ids, attention_mask=mask, labels=targets)\n",
    "initial_loss = outputs[0]\n",
    "initial_loss\n",
    "\n",
    "#this is used to check the initial loss of the model"
   ]
  },
  {
   "cell_type": "code",
   "execution_count": 35,
   "id": "5524b9fb",
   "metadata": {
    "execution": {
     "iopub.execute_input": "2023-09-11T08:59:10.916773Z",
     "iopub.status.busy": "2023-09-11T08:59:10.916321Z",
     "iopub.status.idle": "2023-09-11T08:59:10.922733Z",
     "shell.execute_reply": "2023-09-11T08:59:10.921822Z"
    },
    "papermill": {
     "duration": 0.029849,
     "end_time": "2023-09-11T08:59:10.924674",
     "exception": false,
     "start_time": "2023-09-11T08:59:10.894825",
     "status": "completed"
    },
    "tags": []
   },
   "outputs": [
    {
     "data": {
      "text/plain": [
       "torch.Size([1, 128, 37])"
      ]
     },
     "execution_count": 35,
     "metadata": {},
     "output_type": "execute_result"
    }
   ],
   "source": [
    "tr_logits = outputs[1]\n",
    "tr_logits.shape"
   ]
  },
  {
   "cell_type": "code",
   "execution_count": 36,
   "id": "b5695f24",
   "metadata": {
    "execution": {
     "iopub.execute_input": "2023-09-11T08:59:10.969643Z",
     "iopub.status.busy": "2023-09-11T08:59:10.968807Z",
     "iopub.status.idle": "2023-09-11T08:59:10.975004Z",
     "shell.execute_reply": "2023-09-11T08:59:10.974143Z"
    },
    "papermill": {
     "duration": 0.03046,
     "end_time": "2023-09-11T08:59:10.977005",
     "exception": false,
     "start_time": "2023-09-11T08:59:10.946545",
     "status": "completed"
    },
    "tags": []
   },
   "outputs": [],
   "source": [
    "optimizer = torch.optim.Adam(params=model.parameters(), lr=LEARNING_RATE)\n",
    "#this is used to create the optimizer for the model"
   ]
  },
  {
   "cell_type": "code",
   "execution_count": 37,
   "id": "bc8ed2f6",
   "metadata": {
    "execution": {
     "iopub.execute_input": "2023-09-11T08:59:11.019401Z",
     "iopub.status.busy": "2023-09-11T08:59:11.018637Z",
     "iopub.status.idle": "2023-09-11T08:59:11.029722Z",
     "shell.execute_reply": "2023-09-11T08:59:11.028876Z"
    },
    "papermill": {
     "duration": 0.034339,
     "end_time": "2023-09-11T08:59:11.031661",
     "exception": false,
     "start_time": "2023-09-11T08:59:10.997322",
     "status": "completed"
    },
    "tags": []
   },
   "outputs": [],
   "source": [
    "\n",
    "\n",
    "def train(epoch):\n",
    "    tr_loss, tr_accuracy = 0, 0\n",
    "    nb_tr_examples, nb_tr_steps = 0, 0\n",
    "    tr_preds, tr_labels = [], []\n",
    "\n",
    "    model.train()\n",
    "    \n",
    "    for idx, batch in enumerate(training_loader):\n",
    "        \n",
    "        ids = batch['ids'].to(device, dtype = torch.long)\n",
    "        mask = batch['mask'].to(device, dtype = torch.long)\n",
    "        targets = batch['targets'].to(device, dtype = torch.long)\n",
    "\n",
    "        outputs = model(input_ids=ids, attention_mask=mask, labels=targets)\n",
    "        loss, tr_logits = outputs.loss, outputs.logits\n",
    "        tr_loss += loss.item()\n",
    "\n",
    "        nb_tr_steps += 1\n",
    "        nb_tr_examples += targets.size(0)\n",
    "        \n",
    "        if idx % 100==0:\n",
    "            loss_step = tr_loss/nb_tr_steps\n",
    "            print(f\"Training loss per 100 training steps: {loss_step}\")\n",
    "           \n",
    "\n",
    "        flattened_targets = targets.view(-1) \n",
    "        active_logits = tr_logits.view(-1, model.num_labels)\n",
    "        flattened_predictions = torch.argmax(active_logits, axis=1) \n",
    "\n",
    "        active_accuracy = mask.view(-1) == 1 \n",
    "        targets = torch.masked_select(flattened_targets, active_accuracy)\n",
    "        predictions = torch.masked_select(flattened_predictions, active_accuracy)\n",
    "        \n",
    "        tr_preds.extend(predictions)\n",
    "        tr_labels.extend(targets)\n",
    "        \n",
    "        tmp_tr_accuracy = accuracy_score(targets.cpu().numpy(), predictions.cpu().numpy())\n",
    "        tr_accuracy += tmp_tr_accuracy\n",
    "    \n",
    "        torch.nn.utils.clip_grad_norm_(\n",
    "            parameters=model.parameters(), max_norm=MAX_GRAD_NORM\n",
    "        )\n",
    "        \n",
    "        optimizer.zero_grad()\n",
    "        loss.backward()\n",
    "        optimizer.step()\n",
    "\n",
    "    epoch_loss = tr_loss / nb_tr_steps\n",
    "    tr_accuracy = tr_accuracy / nb_tr_steps\n",
    "    print(f\"Training loss epoch: {epoch_loss}\")\n",
    "    print(f\"Training accuracy epoch: {tr_accuracy}\")\n",
    "#this is used to train the model for each epoch. It also calculates the training loss and training accuracy for each epoch"
   ]
  },
  {
   "cell_type": "code",
   "execution_count": 38,
   "id": "b25e2954",
   "metadata": {
    "execution": {
     "iopub.execute_input": "2023-09-11T08:59:11.075105Z",
     "iopub.status.busy": "2023-09-11T08:59:11.074205Z",
     "iopub.status.idle": "2023-09-11T09:23:00.163104Z",
     "shell.execute_reply": "2023-09-11T09:23:00.161510Z"
    },
    "papermill": {
     "duration": 1429.113158,
     "end_time": "2023-09-11T09:23:00.165454",
     "exception": false,
     "start_time": "2023-09-11T08:59:11.052296",
     "status": "completed"
    },
    "tags": []
   },
   "outputs": [
    {
     "name": "stdout",
     "output_type": "stream",
     "text": [
      "Training epoch: 1\n",
      "Training loss per 100 training steps: 3.4841644763946533\n",
      "Training loss per 100 training steps: 0.5849278569221497\n",
      "Training loss per 100 training steps: 0.43911974057925873\n",
      "Training loss per 100 training steps: 0.3568561789502337\n",
      "Training loss per 100 training steps: 0.30545895401750717\n",
      "Training loss per 100 training steps: 0.2699214471002182\n",
      "Training loss per 100 training steps: 0.24272437155643437\n",
      "Training loss per 100 training steps: 0.22119858281716132\n",
      "Training loss per 100 training steps: 0.20418251159550918\n",
      "Training loss per 100 training steps: 0.18997048091073082\n",
      "Training loss per 100 training steps: 0.1781149003924532\n",
      "Training loss per 100 training steps: 0.16857497302982805\n",
      "Training loss per 100 training steps: 0.15934016878059837\n",
      "Training loss epoch: 0.1565909390826747\n",
      "Training accuracy epoch: 0.77303344123693\n",
      "Training epoch: 2\n",
      "Training loss per 100 training steps: 0.034165408462285995\n",
      "Training loss per 100 training steps: 0.048387292136281436\n",
      "Training loss per 100 training steps: 0.05124815945647916\n",
      "Training loss per 100 training steps: 0.05127119006391033\n",
      "Training loss per 100 training steps: 0.05081958523452133\n",
      "Training loss per 100 training steps: 0.049533449069684196\n",
      "Training loss per 100 training steps: 0.04889524705745218\n",
      "Training loss per 100 training steps: 0.04860458097562789\n",
      "Training loss per 100 training steps: 0.047822309666360904\n",
      "Training loss per 100 training steps: 0.04727310361263118\n",
      "Training loss per 100 training steps: 0.046425877062447524\n",
      "Training loss per 100 training steps: 0.0456447416988813\n",
      "Training loss per 100 training steps: 0.04538074362620581\n",
      "Training loss epoch: 0.04496068445708368\n",
      "Training accuracy epoch: 0.9293281378354177\n",
      "Training epoch: 3\n",
      "Training loss per 100 training steps: 0.03982597216963768\n",
      "Training loss per 100 training steps: 0.029814145203891883\n",
      "Training loss per 100 training steps: 0.028341853046507125\n",
      "Training loss per 100 training steps: 0.028573822669848873\n",
      "Training loss per 100 training steps: 0.028585666844893033\n",
      "Training loss per 100 training steps: 0.03027241355056378\n",
      "Training loss per 100 training steps: 0.03007370615730561\n",
      "Training loss per 100 training steps: 0.029742893564930657\n",
      "Training loss per 100 training steps: 0.029183340222997994\n",
      "Training loss per 100 training steps: 0.028912791475414874\n",
      "Training loss per 100 training steps: 0.028557363424922797\n",
      "Training loss per 100 training steps: 0.028559253331135067\n",
      "Training loss per 100 training steps: 0.028748955032854132\n",
      "Training loss epoch: 0.02866815255224398\n",
      "Training accuracy epoch: 0.9535710366289536\n",
      "Training epoch: 4\n",
      "Training loss per 100 training steps: 0.023235151544213295\n",
      "Training loss per 100 training steps: 0.018549982323495688\n",
      "Training loss per 100 training steps: 0.018195703780899446\n",
      "Training loss per 100 training steps: 0.019800669237301435\n",
      "Training loss per 100 training steps: 0.020069438336908288\n",
      "Training loss per 100 training steps: 0.020603275679757338\n",
      "Training loss per 100 training steps: 0.020688872582634785\n",
      "Training loss per 100 training steps: 0.0204941310012911\n",
      "Training loss per 100 training steps: 0.020538972314495415\n",
      "Training loss per 100 training steps: 0.020779510341017722\n",
      "Training loss per 100 training steps: 0.02077512829143509\n",
      "Training loss per 100 training steps: 0.02030332487540279\n",
      "Training loss per 100 training steps: 0.02035334876911609\n",
      "Training loss epoch: 0.020364245983837053\n",
      "Training accuracy epoch: 0.9655505805744948\n",
      "Training epoch: 5\n",
      "Training loss per 100 training steps: 0.030896060168743134\n",
      "Training loss per 100 training steps: 0.015168166574146045\n",
      "Training loss per 100 training steps: 0.014369885294712078\n",
      "Training loss per 100 training steps: 0.013785629744209856\n",
      "Training loss per 100 training steps: 0.014333060036379696\n",
      "Training loss per 100 training steps: 0.014308615335302349\n",
      "Training loss per 100 training steps: 0.014249651532131286\n",
      "Training loss per 100 training steps: 0.01435204862434943\n",
      "Training loss per 100 training steps: 0.013927948971516738\n",
      "Training loss per 100 training steps: 0.013963414919324898\n",
      "Training loss per 100 training steps: 0.014021721086522972\n",
      "Training loss per 100 training steps: 0.014280733457700071\n",
      "Training loss per 100 training steps: 0.01434627300164981\n",
      "Training loss epoch: 0.014378373387996754\n",
      "Training accuracy epoch: 0.9754568903747257\n",
      "Training epoch: 6\n",
      "Training loss per 100 training steps: 0.004223730880767107\n",
      "Training loss per 100 training steps: 0.011577560824554155\n",
      "Training loss per 100 training steps: 0.010702773948189621\n",
      "Training loss per 100 training steps: 0.010325964072938124\n",
      "Training loss per 100 training steps: 0.010491867872182061\n",
      "Training loss per 100 training steps: 0.010450619157285665\n",
      "Training loss per 100 training steps: 0.010597634340701129\n",
      "Training loss per 100 training steps: 0.010799177245032002\n",
      "Training loss per 100 training steps: 0.010849822765864728\n",
      "Training loss per 100 training steps: 0.010715172420090197\n",
      "Training loss per 100 training steps: 0.01078868208875341\n",
      "Training loss per 100 training steps: 0.010653720733718727\n",
      "Training loss per 100 training steps: 0.010718620220154832\n",
      "Training loss epoch: 0.010779676511100424\n",
      "Training accuracy epoch: 0.9814641682745161\n",
      "Training epoch: 7\n",
      "Training loss per 100 training steps: 0.013828592374920845\n",
      "Training loss per 100 training steps: 0.00692005974521842\n",
      "Training loss per 100 training steps: 0.007385772617304448\n",
      "Training loss per 100 training steps: 0.007736058295217105\n",
      "Training loss per 100 training steps: 0.00745993702988282\n",
      "Training loss per 100 training steps: 0.00777789707246335\n",
      "Training loss per 100 training steps: 0.007812478458129192\n",
      "Training loss per 100 training steps: 0.007921042184542383\n",
      "Training loss per 100 training steps: 0.008177688465470834\n",
      "Training loss per 100 training steps: 0.008167694029966126\n",
      "Training loss per 100 training steps: 0.008191000545681984\n",
      "Training loss per 100 training steps: 0.008177145369779457\n",
      "Training loss per 100 training steps: 0.008139725113317132\n",
      "Training loss epoch: 0.008025280872447983\n",
      "Training accuracy epoch: 0.9857337071137776\n",
      "Training epoch: 8\n",
      "Training loss per 100 training steps: 0.0128334267064929\n",
      "Training loss per 100 training steps: 0.005032602559583778\n",
      "Training loss per 100 training steps: 0.0058660375165599\n",
      "Training loss per 100 training steps: 0.005731015993745153\n",
      "Training loss per 100 training steps: 0.0056592817696251504\n",
      "Training loss per 100 training steps: 0.0058384546895043\n",
      "Training loss per 100 training steps: 0.00619306254170904\n",
      "Training loss per 100 training steps: 0.00617265187847988\n",
      "Training loss per 100 training steps: 0.006260058833860976\n",
      "Training loss per 100 training steps: 0.006419901517624259\n",
      "Training loss per 100 training steps: 0.0062467553257551664\n",
      "Training loss per 100 training steps: 0.00641344723497986\n",
      "Training loss per 100 training steps: 0.006509813635982166\n",
      "Training loss epoch: 0.006606800854655102\n",
      "Training accuracy epoch: 0.9884771765100278\n",
      "Training epoch: 9\n",
      "Training loss per 100 training steps: 0.0004961991799063981\n",
      "Training loss per 100 training steps: 0.003624808171471249\n",
      "Training loss per 100 training steps: 0.0037071953699356454\n",
      "Training loss per 100 training steps: 0.0038277159726453724\n",
      "Training loss per 100 training steps: 0.004257378095354213\n",
      "Training loss per 100 training steps: 0.004522919293749565\n",
      "Training loss per 100 training steps: 0.004672739831194167\n",
      "Training loss per 100 training steps: 0.004794464893790212\n",
      "Training loss per 100 training steps: 0.0047764657589940635\n",
      "Training loss per 100 training steps: 0.004743115846115474\n",
      "Training loss per 100 training steps: 0.00474289216408606\n",
      "Training loss per 100 training steps: 0.004777815844443352\n",
      "Training loss per 100 training steps: 0.004805804683635811\n",
      "Training loss epoch: 0.004874507532110765\n",
      "Training accuracy epoch: 0.9911194364205511\n",
      "Training epoch: 10\n",
      "Training loss per 100 training steps: 0.0024670278653502464\n",
      "Training loss per 100 training steps: 0.0029981755202729485\n",
      "Training loss per 100 training steps: 0.0033837624477521997\n",
      "Training loss per 100 training steps: 0.003570865969720105\n",
      "Training loss per 100 training steps: 0.0033570164501416774\n",
      "Training loss per 100 training steps: 0.003710613438398103\n",
      "Training loss per 100 training steps: 0.0039864084067505155\n",
      "Training loss per 100 training steps: 0.003965974625991109\n",
      "Training loss per 100 training steps: 0.004016012143082879\n",
      "Training loss per 100 training steps: 0.003957350406810017\n",
      "Training loss per 100 training steps: 0.004091845693118877\n",
      "Training loss per 100 training steps: 0.004137057294679937\n",
      "Training loss per 100 training steps: 0.004187316526632904\n",
      "Training loss epoch: 0.004142653245654432\n",
      "Training accuracy epoch: 0.9927384174353743\n",
      "Training epoch: 11\n",
      "Training loss per 100 training steps: 0.00022832397371530533\n",
      "Training loss per 100 training steps: 0.002316042487820758\n",
      "Training loss per 100 training steps: 0.002677196025434564\n",
      "Training loss per 100 training steps: 0.003100417713845262\n",
      "Training loss per 100 training steps: 0.003211758097464177\n",
      "Training loss per 100 training steps: 0.0032057010863434537\n",
      "Training loss per 100 training steps: 0.003434204590667528\n",
      "Training loss per 100 training steps: 0.003446850136984701\n",
      "Training loss per 100 training steps: 0.0034436304446402964\n",
      "Training loss per 100 training steps: 0.0036443128111335135\n",
      "Training loss per 100 training steps: 0.0035915132339995634\n",
      "Training loss per 100 training steps: 0.0035439724109277678\n",
      "Training loss per 100 training steps: 0.0035351546628757976\n",
      "Training loss epoch: 0.0035947995314522013\n",
      "Training accuracy epoch: 0.993306617107573\n",
      "Training epoch: 12\n",
      "Training loss per 100 training steps: 0.0008337082690559328\n",
      "Training loss per 100 training steps: 0.0024346959698509593\n",
      "Training loss per 100 training steps: 0.002694717101681519\n",
      "Training loss per 100 training steps: 0.0027616206758448304\n",
      "Training loss per 100 training steps: 0.002979986512244004\n",
      "Training loss per 100 training steps: 0.0030268002822099417\n",
      "Training loss per 100 training steps: 0.003009985607727481\n",
      "Training loss per 100 training steps: 0.002878866472869654\n",
      "Training loss per 100 training steps: 0.002876158600101758\n",
      "Training loss per 100 training steps: 0.0031086513969727967\n",
      "Training loss per 100 training steps: 0.0032489219923915046\n",
      "Training loss per 100 training steps: 0.0033251749321340533\n",
      "Training loss per 100 training steps: 0.0034343809414990644\n",
      "Training loss epoch: 0.0034070549741611078\n",
      "Training accuracy epoch: 0.9939062642828761\n",
      "Training epoch: 13\n",
      "Training loss per 100 training steps: 0.0002888523449655622\n",
      "Training loss per 100 training steps: 0.002220273015217851\n",
      "Training loss per 100 training steps: 0.002265779580110082\n",
      "Training loss per 100 training steps: 0.0025244397665998603\n",
      "Training loss per 100 training steps: 0.0025595342096557784\n",
      "Training loss per 100 training steps: 0.0026316173634859117\n",
      "Training loss per 100 training steps: 0.0027089652092781124\n",
      "Training loss per 100 training steps: 0.002665602165086787\n",
      "Training loss per 100 training steps: 0.0026692177446474195\n",
      "Training loss per 100 training steps: 0.002734679168328094\n",
      "Training loss per 100 training steps: 0.002813574324044658\n",
      "Training loss per 100 training steps: 0.002928944301809887\n",
      "Training loss per 100 training steps: 0.0029037917089888405\n",
      "Training loss epoch: 0.002952551228744639\n",
      "Training accuracy epoch: 0.9945321069216676\n",
      "Training epoch: 14\n",
      "Training loss per 100 training steps: 0.0016996205085888505\n",
      "Training loss per 100 training steps: 0.002248631681140978\n",
      "Training loss per 100 training steps: 0.0023188200779150608\n",
      "Training loss per 100 training steps: 0.0022350152899418144\n",
      "Training loss per 100 training steps: 0.002150691542694966\n",
      "Training loss per 100 training steps: 0.0021891181100716518\n",
      "Training loss per 100 training steps: 0.002285438952187629\n",
      "Training loss per 100 training steps: 0.0023777271110231746\n",
      "Training loss per 100 training steps: 0.002387035597840008\n",
      "Training loss per 100 training steps: 0.002478352940876371\n",
      "Training loss per 100 training steps: 0.0025881208457249486\n",
      "Training loss per 100 training steps: 0.002599897479715539\n",
      "Training loss per 100 training steps: 0.0026135034891894998\n",
      "Training loss epoch: 0.0025782985533790046\n",
      "Training accuracy epoch: 0.9955861612431885\n",
      "Training epoch: 15\n",
      "Training loss per 100 training steps: 0.0013233702629804611\n",
      "Training loss per 100 training steps: 0.0023979544659758372\n",
      "Training loss per 100 training steps: 0.002091933616792635\n",
      "Training loss per 100 training steps: 0.0020913004394413934\n",
      "Training loss per 100 training steps: 0.0022060877201688085\n",
      "Training loss per 100 training steps: 0.002155069345455573\n",
      "Training loss per 100 training steps: 0.0021995415088338346\n",
      "Training loss per 100 training steps: 0.0021401153615484554\n",
      "Training loss per 100 training steps: 0.0023035105070412145\n",
      "Training loss per 100 training steps: 0.002282160206576233\n",
      "Training loss per 100 training steps: 0.002216306805694712\n",
      "Training loss per 100 training steps: 0.002227514424528959\n",
      "Training loss per 100 training steps: 0.002224039657276224\n",
      "Training loss epoch: 0.0022502178054811237\n",
      "Training accuracy epoch: 0.9958084271351372\n"
     ]
    }
   ],
   "source": [
    "for epoch in range(EPOCHS):\n",
    "    print(f\"Training epoch: {epoch + 1}\")\n",
    "    train(epoch)\n",
    "\n",
    "#iterate over the number of epochs and train the model for each epoch"
   ]
  },
  {
   "cell_type": "code",
   "execution_count": 39,
   "id": "39a3a543",
   "metadata": {
    "execution": {
     "iopub.execute_input": "2023-09-11T09:23:00.242921Z",
     "iopub.status.busy": "2023-09-11T09:23:00.242541Z",
     "iopub.status.idle": "2023-09-11T09:23:12.539556Z",
     "shell.execute_reply": "2023-09-11T09:23:12.538442Z"
    },
    "papermill": {
     "duration": 12.34008,
     "end_time": "2023-09-11T09:23:12.542203",
     "exception": false,
     "start_time": "2023-09-11T09:23:00.202123",
     "status": "completed"
    },
    "tags": []
   },
   "outputs": [
    {
     "data": {
      "application/vnd.jupyter.widget-view+json": {
       "model_id": "5242764c003948918ea4d1a40e26e454",
       "version_major": 2,
       "version_minor": 0
      },
      "text/plain": [
       "pytorch_model.bin:   0%|          | 0.00/438M [00:00<?, ?B/s]"
      ]
     },
     "metadata": {},
     "output_type": "display_data"
    },
    {
     "data": {
      "text/plain": [
       "CommitInfo(commit_url='https://huggingface.co/codern/downstream-german-bert/commit/bac3f1fc402547018953e18772abd3b47c72bef7', commit_message='Upload tokenizer', commit_description='', oid='bac3f1fc402547018953e18772abd3b47c72bef7', pr_url=None, pr_revision=None, pr_num=None)"
      ]
     },
     "execution_count": 39,
     "metadata": {},
     "output_type": "execute_result"
    }
   ],
   "source": [
    "model.push_to_hub(\"codern/downstream-german-bert\")\n",
    "tokenizer.push_to_hub(\"codern/downstream-german-bert\")\n",
    "\n",
    "#save the model for future use"
   ]
  },
  {
   "cell_type": "code",
   "execution_count": 40,
   "id": "c97c3e5c",
   "metadata": {
    "execution": {
     "iopub.execute_input": "2023-09-11T09:23:12.616197Z",
     "iopub.status.busy": "2023-09-11T09:23:12.615378Z",
     "iopub.status.idle": "2023-09-11T09:23:12.628000Z",
     "shell.execute_reply": "2023-09-11T09:23:12.627110Z"
    },
    "papermill": {
     "duration": 0.051549,
     "end_time": "2023-09-11T09:23:12.629996",
     "exception": false,
     "start_time": "2023-09-11T09:23:12.578447",
     "status": "completed"
    },
    "tags": []
   },
   "outputs": [],
   "source": [
    "def valid(model, testing_loader):\n",
    "\n",
    "    model.eval()\n",
    "    \n",
    "    eval_loss, eval_accuracy = 0, 0\n",
    "    nb_eval_examples, nb_eval_steps = 0, 0\n",
    "    eval_preds, eval_labels = [], []\n",
    "    \n",
    "    with torch.no_grad():\n",
    "        for idx, batch in enumerate(testing_loader):\n",
    "            \n",
    "            ids = batch['ids'].to(device, dtype = torch.long)\n",
    "            mask = batch['mask'].to(device, dtype = torch.long)\n",
    "            targets = batch['targets'].to(device, dtype = torch.long)\n",
    "            \n",
    "            outputs = model(input_ids=ids, attention_mask=mask, labels=targets)\n",
    "            loss, eval_logits = outputs.loss, outputs.logits\n",
    "            \n",
    "            eval_loss += loss.item()\n",
    "\n",
    "            nb_eval_steps += 1\n",
    "            nb_eval_examples += targets.size(0)\n",
    "        \n",
    "            if idx % 100==0:\n",
    "                loss_step = eval_loss/nb_eval_steps\n",
    "                print(f\"Validation loss per 100 evaluation steps: {loss_step}\")\n",
    "              \n",
    "            flattened_targets = targets.view(-1) \n",
    "            active_logits = eval_logits.view(-1, model.num_labels) \n",
    "            flattened_predictions = torch.argmax(active_logits, axis=1)\n",
    "\n",
    "            active_accuracy = mask.view(-1) == 1\n",
    "            targets = torch.masked_select(flattened_targets, active_accuracy)\n",
    "            predictions = torch.masked_select(flattened_predictions, active_accuracy)\n",
    "            \n",
    "            eval_labels.extend(targets)\n",
    "            eval_preds.extend(predictions)\n",
    "            \n",
    "            tmp_eval_accuracy = accuracy_score(targets.cpu().numpy(), predictions.cpu().numpy())\n",
    "            eval_accuracy += tmp_eval_accuracy\n",
    "    \n",
    "    #print(eval_labels)\n",
    "    #print(eval_preds)\n",
    "\n",
    "    labels = [id2label[id.item()] for id in eval_labels]\n",
    "    predictions = [id2label[id.item()] for id in eval_preds]\n",
    "\n",
    "    #print(labels)\n",
    "    #print(predictions)\n",
    "    \n",
    "    eval_loss = eval_loss / nb_eval_steps\n",
    "    eval_accuracy = eval_accuracy / nb_eval_steps\n",
    "    print(f\"Validation Loss: {eval_loss}\")\n",
    "    print(f\"Validation Accuracy: {eval_accuracy}\")\n",
    "\n",
    "    return labels, predictions\n",
    "\n",
    "#this is used to evaluate the model on the validation dataset. It also calculates the validation loss and validation accuracy for each epoch"
   ]
  },
  {
   "cell_type": "code",
   "execution_count": 41,
   "id": "8f59e926",
   "metadata": {
    "execution": {
     "iopub.execute_input": "2023-09-11T09:23:12.703165Z",
     "iopub.status.busy": "2023-09-11T09:23:12.701464Z",
     "iopub.status.idle": "2023-09-11T09:23:13.158668Z",
     "shell.execute_reply": "2023-09-11T09:23:13.157311Z"
    },
    "papermill": {
     "duration": 0.495992,
     "end_time": "2023-09-11T09:23:13.161056",
     "exception": false,
     "start_time": "2023-09-11T09:23:12.665064",
     "status": "completed"
    },
    "tags": []
   },
   "outputs": [
    {
     "name": "stdout",
     "output_type": "stream",
     "text": [
      "Validation loss per 100 evaluation steps: 0.183653324842453\n",
      "Validation Loss: 0.03702047369501088\n",
      "Validation Accuracy: 0.9621718426406788\n"
     ]
    }
   ],
   "source": [
    "labels, predictions = valid(model, testing_loader)\n"
   ]
  },
  {
   "cell_type": "markdown",
   "id": "1c7fc719",
   "metadata": {
    "papermill": {
     "duration": 0.038256,
     "end_time": "2023-09-11T09:41:21.968420",
     "exception": false,
     "start_time": "2023-09-11T09:41:21.930164",
     "status": "completed"
    },
    "tags": []
   },
   "source": []
  }
 ],
 "kernelspec": {
  "display_name": "Python 3",
  "language": "python",
  "name": "python3"
 },
 "language_info": {
  "codemirror_mode": {
   "name": "ipython",
   "version": 3
  },
  "file_extension": ".py",
  "mimetype": "text/x-python",
  "name": "python",
  "nbconvert_exporter": "python",
  "pygments_lexer": "ipython3",
  "version": "3.6.4"
 },
 "metadata": {
  "kernelspec": {
   "display_name": "Python 3",
   "language": "python",
   "name": "python3"
  },
  "language_info": {
   "codemirror_mode": {
    "name": "ipython",
    "version": 3
   },
   "file_extension": ".py",
   "mimetype": "text/x-python",
   "name": "python",
   "nbconvert_exporter": "python",
   "pygments_lexer": "ipython3",
   "version": "3.10.12"
  },
  "papermill": {
   "default_parameters": {},
   "duration": 9074.317242,
   "end_time": "2023-09-11T09:41:25.802107",
   "environment_variables": {},
   "exception": null,
   "input_path": "__notebook__.ipynb",
   "output_path": "__notebook__.ipynb",
   "parameters": {},
   "start_time": "2023-09-11T07:10:11.484865",
   "version": "2.4.0"
  },
  "widgets": {
   "application/vnd.jupyter.widget-state+json": {
    "state": {
     "0212fc2bc22f43f685959a663f943507": {
      "model_module": "@jupyter-widgets/controls",
      "model_module_version": "1.5.0",
      "model_name": "DescriptionStyleModel",
      "state": {
       "_model_module": "@jupyter-widgets/controls",
       "_model_module_version": "1.5.0",
       "_model_name": "DescriptionStyleModel",
       "_view_count": null,
       "_view_module": "@jupyter-widgets/base",
       "_view_module_version": "1.2.0",
       "_view_name": "StyleView",
       "description_width": ""
      }
     },
     "03b63bb3af9b470b86b12e0153ef89f9": {
      "model_module": "@jupyter-widgets/controls",
      "model_module_version": "1.5.0",
      "model_name": "HTMLModel",
      "state": {
       "_dom_classes": [],
       "_model_module": "@jupyter-widgets/controls",
       "_model_module_version": "1.5.0",
       "_model_name": "HTMLModel",
       "_view_count": null,
       "_view_module": "@jupyter-widgets/controls",
       "_view_module_version": "1.5.0",
       "_view_name": "HTMLView",
       "description": "",
       "description_tooltip": null,
       "layout": "IPY_MODEL_6ec9a21e548642f3ac1b9ef2bc8ff87a",
       "placeholder": "​",
       "style": "IPY_MODEL_d33905ca754e431da1b1a21e94486b3e",
       "value": " 433/433 [00:00&lt;00:00, 23.8kB/s]"
      }
     },
     "0454c4a5669c4513a96dc426fe99affd": {
      "model_module": "@jupyter-widgets/base",
      "model_module_version": "1.2.0",
      "model_name": "LayoutModel",
      "state": {
       "_model_module": "@jupyter-widgets/base",
       "_model_module_version": "1.2.0",
       "_model_name": "LayoutModel",
       "_view_count": null,
       "_view_module": "@jupyter-widgets/base",
       "_view_module_version": "1.2.0",
       "_view_name": "LayoutView",
       "align_content": null,
       "align_items": null,
       "align_self": null,
       "border": null,
       "bottom": null,
       "display": null,
       "flex": null,
       "flex_flow": null,
       "grid_area": null,
       "grid_auto_columns": null,
       "grid_auto_flow": null,
       "grid_auto_rows": null,
       "grid_column": null,
       "grid_gap": null,
       "grid_row": null,
       "grid_template_areas": null,
       "grid_template_columns": null,
       "grid_template_rows": null,
       "height": null,
       "justify_content": null,
       "justify_items": null,
       "left": null,
       "margin": null,
       "max_height": null,
       "max_width": null,
       "min_height": null,
       "min_width": null,
       "object_fit": null,
       "object_position": null,
       "order": null,
       "overflow": null,
       "overflow_x": null,
       "overflow_y": null,
       "padding": null,
       "right": null,
       "top": null,
       "visibility": null,
       "width": null
      }
     },
     "103ab532335c4a71a75a210c591a8055": {
      "model_module": "@jupyter-widgets/controls",
      "model_module_version": "1.5.0",
      "model_name": "HTMLModel",
      "state": {
       "_dom_classes": [],
       "_model_module": "@jupyter-widgets/controls",
       "_model_module_version": "1.5.0",
       "_model_name": "HTMLModel",
       "_view_count": null,
       "_view_module": "@jupyter-widgets/controls",
       "_view_module_version": "1.5.0",
       "_view_name": "HTMLView",
       "description": "",
       "description_tooltip": null,
       "layout": "IPY_MODEL_63c246b3f6714916b674043285d79a9d",
       "placeholder": "​",
       "style": "IPY_MODEL_13312346ea324475ba3ab65721881090",
       "value": "Downloading (…)lve/main/config.json: 100%"
      }
     },
     "13312346ea324475ba3ab65721881090": {
      "model_module": "@jupyter-widgets/controls",
      "model_module_version": "1.5.0",
      "model_name": "DescriptionStyleModel",
      "state": {
       "_model_module": "@jupyter-widgets/controls",
       "_model_module_version": "1.5.0",
       "_model_name": "DescriptionStyleModel",
       "_view_count": null,
       "_view_module": "@jupyter-widgets/base",
       "_view_module_version": "1.2.0",
       "_view_name": "StyleView",
       "description_width": ""
      }
     },
     "156014c3f1704b68b3a59e4995430b74": {
      "model_module": "@jupyter-widgets/base",
      "model_module_version": "1.2.0",
      "model_name": "LayoutModel",
      "state": {
       "_model_module": "@jupyter-widgets/base",
       "_model_module_version": "1.2.0",
       "_model_name": "LayoutModel",
       "_view_count": null,
       "_view_module": "@jupyter-widgets/base",
       "_view_module_version": "1.2.0",
       "_view_name": "LayoutView",
       "align_content": null,
       "align_items": null,
       "align_self": null,
       "border": null,
       "bottom": null,
       "display": null,
       "flex": null,
       "flex_flow": null,
       "grid_area": null,
       "grid_auto_columns": null,
       "grid_auto_flow": null,
       "grid_auto_rows": null,
       "grid_column": null,
       "grid_gap": null,
       "grid_row": null,
       "grid_template_areas": null,
       "grid_template_columns": null,
       "grid_template_rows": null,
       "height": null,
       "justify_content": null,
       "justify_items": null,
       "left": null,
       "margin": null,
       "max_height": null,
       "max_width": null,
       "min_height": null,
       "min_width": null,
       "object_fit": null,
       "object_position": null,
       "order": null,
       "overflow": null,
       "overflow_x": null,
       "overflow_y": null,
       "padding": null,
       "right": null,
       "top": null,
       "visibility": null,
       "width": null
      }
     },
     "1970bc6e64b64b279111652900bf9d6b": {
      "model_module": "@jupyter-widgets/controls",
      "model_module_version": "1.5.0",
      "model_name": "HBoxModel",
      "state": {
       "_dom_classes": [],
       "_model_module": "@jupyter-widgets/controls",
       "_model_module_version": "1.5.0",
       "_model_name": "HBoxModel",
       "_view_count": null,
       "_view_module": "@jupyter-widgets/controls",
       "_view_module_version": "1.5.0",
       "_view_name": "HBoxView",
       "box_style": "",
       "children": [
        "IPY_MODEL_99863c71a875463b9fb4dd2c946df8f3",
        "IPY_MODEL_2e22766ea69b4573ae53b6e76ffd84c9",
        "IPY_MODEL_c745c7167edc47579562e2eefac0409a"
       ],
       "layout": "IPY_MODEL_804454bc052946388abace5827d1f600"
      }
     },
     "27b0f162de7c4077b9063e4ef8231da2": {
      "model_module": "@jupyter-widgets/controls",
      "model_module_version": "1.5.0",
      "model_name": "ProgressStyleModel",
      "state": {
       "_model_module": "@jupyter-widgets/controls",
       "_model_module_version": "1.5.0",
       "_model_name": "ProgressStyleModel",
       "_view_count": null,
       "_view_module": "@jupyter-widgets/base",
       "_view_module_version": "1.2.0",
       "_view_name": "StyleView",
       "bar_color": null,
       "description_width": ""
      }
     },
     "2aa27ce9b45a4a92bf49f29185d25792": {
      "model_module": "@jupyter-widgets/base",
      "model_module_version": "1.2.0",
      "model_name": "LayoutModel",
      "state": {
       "_model_module": "@jupyter-widgets/base",
       "_model_module_version": "1.2.0",
       "_model_name": "LayoutModel",
       "_view_count": null,
       "_view_module": "@jupyter-widgets/base",
       "_view_module_version": "1.2.0",
       "_view_name": "LayoutView",
       "align_content": null,
       "align_items": null,
       "align_self": null,
       "border": null,
       "bottom": null,
       "display": null,
       "flex": null,
       "flex_flow": null,
       "grid_area": null,
       "grid_auto_columns": null,
       "grid_auto_flow": null,
       "grid_auto_rows": null,
       "grid_column": null,
       "grid_gap": null,
       "grid_row": null,
       "grid_template_areas": null,
       "grid_template_columns": null,
       "grid_template_rows": null,
       "height": null,
       "justify_content": null,
       "justify_items": null,
       "left": null,
       "margin": null,
       "max_height": null,
       "max_width": null,
       "min_height": null,
       "min_width": null,
       "object_fit": null,
       "object_position": null,
       "order": null,
       "overflow": null,
       "overflow_x": null,
       "overflow_y": null,
       "padding": null,
       "right": null,
       "top": null,
       "visibility": null,
       "width": null
      }
     },
     "2b155d68ce8b43f59e0cf372106aae52": {
      "model_module": "@jupyter-widgets/base",
      "model_module_version": "1.2.0",
      "model_name": "LayoutModel",
      "state": {
       "_model_module": "@jupyter-widgets/base",
       "_model_module_version": "1.2.0",
       "_model_name": "LayoutModel",
       "_view_count": null,
       "_view_module": "@jupyter-widgets/base",
       "_view_module_version": "1.2.0",
       "_view_name": "LayoutView",
       "align_content": null,
       "align_items": null,
       "align_self": null,
       "border": null,
       "bottom": null,
       "display": null,
       "flex": null,
       "flex_flow": null,
       "grid_area": null,
       "grid_auto_columns": null,
       "grid_auto_flow": null,
       "grid_auto_rows": null,
       "grid_column": null,
       "grid_gap": null,
       "grid_row": null,
       "grid_template_areas": null,
       "grid_template_columns": null,
       "grid_template_rows": null,
       "height": null,
       "justify_content": null,
       "justify_items": null,
       "left": null,
       "margin": null,
       "max_height": null,
       "max_width": null,
       "min_height": null,
       "min_width": null,
       "object_fit": null,
       "object_position": null,
       "order": null,
       "overflow": null,
       "overflow_x": null,
       "overflow_y": null,
       "padding": null,
       "right": null,
       "top": null,
       "visibility": null,
       "width": null
      }
     },
     "2cfe425e725944ccaee1d8d3e95b88c1": {
      "model_module": "@jupyter-widgets/base",
      "model_module_version": "1.2.0",
      "model_name": "LayoutModel",
      "state": {
       "_model_module": "@jupyter-widgets/base",
       "_model_module_version": "1.2.0",
       "_model_name": "LayoutModel",
       "_view_count": null,
       "_view_module": "@jupyter-widgets/base",
       "_view_module_version": "1.2.0",
       "_view_name": "LayoutView",
       "align_content": null,
       "align_items": null,
       "align_self": null,
       "border": null,
       "bottom": null,
       "display": null,
       "flex": null,
       "flex_flow": null,
       "grid_area": null,
       "grid_auto_columns": null,
       "grid_auto_flow": null,
       "grid_auto_rows": null,
       "grid_column": null,
       "grid_gap": null,
       "grid_row": null,
       "grid_template_areas": null,
       "grid_template_columns": null,
       "grid_template_rows": null,
       "height": null,
       "justify_content": null,
       "justify_items": null,
       "left": null,
       "margin": null,
       "max_height": null,
       "max_width": null,
       "min_height": null,
       "min_width": null,
       "object_fit": null,
       "object_position": null,
       "order": null,
       "overflow": null,
       "overflow_x": null,
       "overflow_y": null,
       "padding": null,
       "right": null,
       "top": null,
       "visibility": null,
       "width": null
      }
     },
     "2e22766ea69b4573ae53b6e76ffd84c9": {
      "model_module": "@jupyter-widgets/controls",
      "model_module_version": "1.5.0",
      "model_name": "FloatProgressModel",
      "state": {
       "_dom_classes": [],
       "_model_module": "@jupyter-widgets/controls",
       "_model_module_version": "1.5.0",
       "_model_name": "FloatProgressModel",
       "_view_count": null,
       "_view_module": "@jupyter-widgets/controls",
       "_view_module_version": "1.5.0",
       "_view_name": "ProgressView",
       "bar_style": "success",
       "description": "",
       "description_tooltip": null,
       "layout": "IPY_MODEL_641931837d9c49e28db443f20b986bde",
       "max": 59,
       "min": 0,
       "orientation": "horizontal",
       "style": "IPY_MODEL_72deb87439244767b4dd400e4b9cc8d6",
       "value": 59
      }
     },
     "357c9f3986b740d8b0cc05304c238966": {
      "model_module": "@jupyter-widgets/controls",
      "model_module_version": "1.5.0",
      "model_name": "DescriptionStyleModel",
      "state": {
       "_model_module": "@jupyter-widgets/controls",
       "_model_module_version": "1.5.0",
       "_model_name": "DescriptionStyleModel",
       "_view_count": null,
       "_view_module": "@jupyter-widgets/base",
       "_view_module_version": "1.2.0",
       "_view_name": "StyleView",
       "description_width": ""
      }
     },
     "36f5a26853e2422e8a6f4bcc5c6efbbc": {
      "model_module": "@jupyter-widgets/controls",
      "model_module_version": "1.5.0",
      "model_name": "FloatProgressModel",
      "state": {
       "_dom_classes": [],
       "_model_module": "@jupyter-widgets/controls",
       "_model_module_version": "1.5.0",
       "_model_name": "FloatProgressModel",
       "_view_count": null,
       "_view_module": "@jupyter-widgets/controls",
       "_view_module_version": "1.5.0",
       "_view_name": "ProgressView",
       "bar_style": "success",
       "description": "",
       "description_tooltip": null,
       "layout": "IPY_MODEL_2aa27ce9b45a4a92bf49f29185d25792",
       "max": 442233876,
       "min": 0,
       "orientation": "horizontal",
       "style": "IPY_MODEL_dd56f3ef24054c9bb3aab8ae00a0f8e3",
       "value": 442233876
      }
     },
     "38028c4145a2486f88bd664e85224199": {
      "model_module": "@jupyter-widgets/controls",
      "model_module_version": "1.5.0",
      "model_name": "HBoxModel",
      "state": {
       "_dom_classes": [],
       "_model_module": "@jupyter-widgets/controls",
       "_model_module_version": "1.5.0",
       "_model_name": "HBoxModel",
       "_view_count": null,
       "_view_module": "@jupyter-widgets/controls",
       "_view_module_version": "1.5.0",
       "_view_name": "HBoxView",
       "box_style": "",
       "children": [
        "IPY_MODEL_e8f69013eaa044128b1289358e763fe9",
        "IPY_MODEL_36f5a26853e2422e8a6f4bcc5c6efbbc",
        "IPY_MODEL_e8d31ed8d2884aa88e9be5e034e05067"
       ],
       "layout": "IPY_MODEL_0454c4a5669c4513a96dc426fe99affd"
      }
     },
     "41a8c3b88b404fde9492669355eb71e6": {
      "model_module": "@jupyter-widgets/base",
      "model_module_version": "1.2.0",
      "model_name": "LayoutModel",
      "state": {
       "_model_module": "@jupyter-widgets/base",
       "_model_module_version": "1.2.0",
       "_model_name": "LayoutModel",
       "_view_count": null,
       "_view_module": "@jupyter-widgets/base",
       "_view_module_version": "1.2.0",
       "_view_name": "LayoutView",
       "align_content": null,
       "align_items": null,
       "align_self": null,
       "border": null,
       "bottom": null,
       "display": null,
       "flex": null,
       "flex_flow": null,
       "grid_area": null,
       "grid_auto_columns": null,
       "grid_auto_flow": null,
       "grid_auto_rows": null,
       "grid_column": null,
       "grid_gap": null,
       "grid_row": null,
       "grid_template_areas": null,
       "grid_template_columns": null,
       "grid_template_rows": null,
       "height": null,
       "justify_content": null,
       "justify_items": null,
       "left": null,
       "margin": null,
       "max_height": null,
       "max_width": null,
       "min_height": null,
       "min_width": null,
       "object_fit": null,
       "object_position": null,
       "order": null,
       "overflow": null,
       "overflow_x": null,
       "overflow_y": null,
       "padding": null,
       "right": null,
       "top": null,
       "visibility": null,
       "width": null
      }
     },
     "42d4b7f5e9eb40b7ae8dff300ca64222": {
      "model_module": "@jupyter-widgets/controls",
      "model_module_version": "1.5.0",
      "model_name": "FloatProgressModel",
      "state": {
       "_dom_classes": [],
       "_model_module": "@jupyter-widgets/controls",
       "_model_module_version": "1.5.0",
       "_model_name": "FloatProgressModel",
       "_view_count": null,
       "_view_module": "@jupyter-widgets/controls",
       "_view_module_version": "1.5.0",
       "_view_name": "ProgressView",
       "bar_style": "success",
       "description": "",
       "description_tooltip": null,
       "layout": "IPY_MODEL_2cfe425e725944ccaee1d8d3e95b88c1",
       "max": 437529897,
       "min": 0,
       "orientation": "horizontal",
       "style": "IPY_MODEL_c76cbb8708fb46d283fc9ed6e61cdf8d",
       "value": 437529897
      }
     },
     "4984522df269450b8cc8459656a52e4c": {
      "model_module": "@jupyter-widgets/controls",
      "model_module_version": "1.5.0",
      "model_name": "DescriptionStyleModel",
      "state": {
       "_model_module": "@jupyter-widgets/controls",
       "_model_module_version": "1.5.0",
       "_model_name": "DescriptionStyleModel",
       "_view_count": null,
       "_view_module": "@jupyter-widgets/base",
       "_view_module_version": "1.2.0",
       "_view_name": "StyleView",
       "description_width": ""
      }
     },
     "4b15e9c76deb4dc89ea05842b13cb1a0": {
      "model_module": "@jupyter-widgets/base",
      "model_module_version": "1.2.0",
      "model_name": "LayoutModel",
      "state": {
       "_model_module": "@jupyter-widgets/base",
       "_model_module_version": "1.2.0",
       "_model_name": "LayoutModel",
       "_view_count": null,
       "_view_module": "@jupyter-widgets/base",
       "_view_module_version": "1.2.0",
       "_view_name": "LayoutView",
       "align_content": null,
       "align_items": null,
       "align_self": null,
       "border": null,
       "bottom": null,
       "display": null,
       "flex": null,
       "flex_flow": null,
       "grid_area": null,
       "grid_auto_columns": null,
       "grid_auto_flow": null,
       "grid_auto_rows": null,
       "grid_column": null,
       "grid_gap": null,
       "grid_row": null,
       "grid_template_areas": null,
       "grid_template_columns": null,
       "grid_template_rows": null,
       "height": null,
       "justify_content": null,
       "justify_items": null,
       "left": null,
       "margin": null,
       "max_height": null,
       "max_width": null,
       "min_height": null,
       "min_width": null,
       "object_fit": null,
       "object_position": null,
       "order": null,
       "overflow": null,
       "overflow_x": null,
       "overflow_y": null,
       "padding": null,
       "right": null,
       "top": null,
       "visibility": null,
       "width": null
      }
     },
     "4dc3a4ef0a774627894dd17077e058d7": {
      "model_module": "@jupyter-widgets/controls",
      "model_module_version": "1.5.0",
      "model_name": "ProgressStyleModel",
      "state": {
       "_model_module": "@jupyter-widgets/controls",
       "_model_module_version": "1.5.0",
       "_model_name": "ProgressStyleModel",
       "_view_count": null,
       "_view_module": "@jupyter-widgets/base",
       "_view_module_version": "1.2.0",
       "_view_name": "StyleView",
       "bar_color": null,
       "description_width": ""
      }
     },
     "5242764c003948918ea4d1a40e26e454": {
      "model_module": "@jupyter-widgets/controls",
      "model_module_version": "1.5.0",
      "model_name": "HBoxModel",
      "state": {
       "_dom_classes": [],
       "_model_module": "@jupyter-widgets/controls",
       "_model_module_version": "1.5.0",
       "_model_name": "HBoxModel",
       "_view_count": null,
       "_view_module": "@jupyter-widgets/controls",
       "_view_module_version": "1.5.0",
       "_view_name": "HBoxView",
       "box_style": "",
       "children": [
        "IPY_MODEL_b6050df1a1db4b048f0aff6816cb0be5",
        "IPY_MODEL_42d4b7f5e9eb40b7ae8dff300ca64222",
        "IPY_MODEL_9dca1d8be8304762afba2888708fd68a"
       ],
       "layout": "IPY_MODEL_156014c3f1704b68b3a59e4995430b74"
      }
     },
     "5573d2d0dbe04f70b15b93563fcc0074": {
      "model_module": "@jupyter-widgets/base",
      "model_module_version": "1.2.0",
      "model_name": "LayoutModel",
      "state": {
       "_model_module": "@jupyter-widgets/base",
       "_model_module_version": "1.2.0",
       "_model_name": "LayoutModel",
       "_view_count": null,
       "_view_module": "@jupyter-widgets/base",
       "_view_module_version": "1.2.0",
       "_view_name": "LayoutView",
       "align_content": null,
       "align_items": null,
       "align_self": null,
       "border": null,
       "bottom": null,
       "display": null,
       "flex": null,
       "flex_flow": null,
       "grid_area": null,
       "grid_auto_columns": null,
       "grid_auto_flow": null,
       "grid_auto_rows": null,
       "grid_column": null,
       "grid_gap": null,
       "grid_row": null,
       "grid_template_areas": null,
       "grid_template_columns": null,
       "grid_template_rows": null,
       "height": null,
       "justify_content": null,
       "justify_items": null,
       "left": null,
       "margin": null,
       "max_height": null,
       "max_width": null,
       "min_height": null,
       "min_width": null,
       "object_fit": null,
       "object_position": null,
       "order": null,
       "overflow": null,
       "overflow_x": null,
       "overflow_y": null,
       "padding": null,
       "right": null,
       "top": null,
       "visibility": null,
       "width": null
      }
     },
     "63c246b3f6714916b674043285d79a9d": {
      "model_module": "@jupyter-widgets/base",
      "model_module_version": "1.2.0",
      "model_name": "LayoutModel",
      "state": {
       "_model_module": "@jupyter-widgets/base",
       "_model_module_version": "1.2.0",
       "_model_name": "LayoutModel",
       "_view_count": null,
       "_view_module": "@jupyter-widgets/base",
       "_view_module_version": "1.2.0",
       "_view_name": "LayoutView",
       "align_content": null,
       "align_items": null,
       "align_self": null,
       "border": null,
       "bottom": null,
       "display": null,
       "flex": null,
       "flex_flow": null,
       "grid_area": null,
       "grid_auto_columns": null,
       "grid_auto_flow": null,
       "grid_auto_rows": null,
       "grid_column": null,
       "grid_gap": null,
       "grid_row": null,
       "grid_template_areas": null,
       "grid_template_columns": null,
       "grid_template_rows": null,
       "height": null,
       "justify_content": null,
       "justify_items": null,
       "left": null,
       "margin": null,
       "max_height": null,
       "max_width": null,
       "min_height": null,
       "min_width": null,
       "object_fit": null,
       "object_position": null,
       "order": null,
       "overflow": null,
       "overflow_x": null,
       "overflow_y": null,
       "padding": null,
       "right": null,
       "top": null,
       "visibility": null,
       "width": null
      }
     },
     "641931837d9c49e28db443f20b986bde": {
      "model_module": "@jupyter-widgets/base",
      "model_module_version": "1.2.0",
      "model_name": "LayoutModel",
      "state": {
       "_model_module": "@jupyter-widgets/base",
       "_model_module_version": "1.2.0",
       "_model_name": "LayoutModel",
       "_view_count": null,
       "_view_module": "@jupyter-widgets/base",
       "_view_module_version": "1.2.0",
       "_view_name": "LayoutView",
       "align_content": null,
       "align_items": null,
       "align_self": null,
       "border": null,
       "bottom": null,
       "display": null,
       "flex": null,
       "flex_flow": null,
       "grid_area": null,
       "grid_auto_columns": null,
       "grid_auto_flow": null,
       "grid_auto_rows": null,
       "grid_column": null,
       "grid_gap": null,
       "grid_row": null,
       "grid_template_areas": null,
       "grid_template_columns": null,
       "grid_template_rows": null,
       "height": null,
       "justify_content": null,
       "justify_items": null,
       "left": null,
       "margin": null,
       "max_height": null,
       "max_width": null,
       "min_height": null,
       "min_width": null,
       "object_fit": null,
       "object_position": null,
       "order": null,
       "overflow": null,
       "overflow_x": null,
       "overflow_y": null,
       "padding": null,
       "right": null,
       "top": null,
       "visibility": null,
       "width": null
      }
     },
     "6a9e86a2e7a4438f96581ac26a5eb714": {
      "model_module": "@jupyter-widgets/controls",
      "model_module_version": "1.5.0",
      "model_name": "DescriptionStyleModel",
      "state": {
       "_model_module": "@jupyter-widgets/controls",
       "_model_module_version": "1.5.0",
       "_model_name": "DescriptionStyleModel",
       "_view_count": null,
       "_view_module": "@jupyter-widgets/base",
       "_view_module_version": "1.2.0",
       "_view_name": "StyleView",
       "description_width": ""
      }
     },
     "6ec9a21e548642f3ac1b9ef2bc8ff87a": {
      "model_module": "@jupyter-widgets/base",
      "model_module_version": "1.2.0",
      "model_name": "LayoutModel",
      "state": {
       "_model_module": "@jupyter-widgets/base",
       "_model_module_version": "1.2.0",
       "_model_name": "LayoutModel",
       "_view_count": null,
       "_view_module": "@jupyter-widgets/base",
       "_view_module_version": "1.2.0",
       "_view_name": "LayoutView",
       "align_content": null,
       "align_items": null,
       "align_self": null,
       "border": null,
       "bottom": null,
       "display": null,
       "flex": null,
       "flex_flow": null,
       "grid_area": null,
       "grid_auto_columns": null,
       "grid_auto_flow": null,
       "grid_auto_rows": null,
       "grid_column": null,
       "grid_gap": null,
       "grid_row": null,
       "grid_template_areas": null,
       "grid_template_columns": null,
       "grid_template_rows": null,
       "height": null,
       "justify_content": null,
       "justify_items": null,
       "left": null,
       "margin": null,
       "max_height": null,
       "max_width": null,
       "min_height": null,
       "min_width": null,
       "object_fit": null,
       "object_position": null,
       "order": null,
       "overflow": null,
       "overflow_x": null,
       "overflow_y": null,
       "padding": null,
       "right": null,
       "top": null,
       "visibility": null,
       "width": null
      }
     },
     "6f64dabc5d7b482295ab8bad572cd5a0": {
      "model_module": "@jupyter-widgets/controls",
      "model_module_version": "1.5.0",
      "model_name": "FloatProgressModel",
      "state": {
       "_dom_classes": [],
       "_model_module": "@jupyter-widgets/controls",
       "_model_module_version": "1.5.0",
       "_model_name": "FloatProgressModel",
       "_view_count": null,
       "_view_module": "@jupyter-widgets/controls",
       "_view_module_version": "1.5.0",
       "_view_name": "ProgressView",
       "bar_style": "success",
       "description": "",
       "description_tooltip": null,
       "layout": "IPY_MODEL_5573d2d0dbe04f70b15b93563fcc0074",
       "max": 433,
       "min": 0,
       "orientation": "horizontal",
       "style": "IPY_MODEL_27b0f162de7c4077b9063e4ef8231da2",
       "value": 433
      }
     },
     "6fbe8092b40542d9967e9fd5a30750b7": {
      "model_module": "@jupyter-widgets/base",
      "model_module_version": "1.2.0",
      "model_name": "LayoutModel",
      "state": {
       "_model_module": "@jupyter-widgets/base",
       "_model_module_version": "1.2.0",
       "_model_name": "LayoutModel",
       "_view_count": null,
       "_view_module": "@jupyter-widgets/base",
       "_view_module_version": "1.2.0",
       "_view_name": "LayoutView",
       "align_content": null,
       "align_items": null,
       "align_self": null,
       "border": null,
       "bottom": null,
       "display": null,
       "flex": null,
       "flex_flow": null,
       "grid_area": null,
       "grid_auto_columns": null,
       "grid_auto_flow": null,
       "grid_auto_rows": null,
       "grid_column": null,
       "grid_gap": null,
       "grid_row": null,
       "grid_template_areas": null,
       "grid_template_columns": null,
       "grid_template_rows": null,
       "height": null,
       "justify_content": null,
       "justify_items": null,
       "left": null,
       "margin": null,
       "max_height": null,
       "max_width": null,
       "min_height": null,
       "min_width": null,
       "object_fit": null,
       "object_position": null,
       "order": null,
       "overflow": null,
       "overflow_x": null,
       "overflow_y": null,
       "padding": null,
       "right": null,
       "top": null,
       "visibility": null,
       "width": null
      }
     },
     "72deb87439244767b4dd400e4b9cc8d6": {
      "model_module": "@jupyter-widgets/controls",
      "model_module_version": "1.5.0",
      "model_name": "ProgressStyleModel",
      "state": {
       "_model_module": "@jupyter-widgets/controls",
       "_model_module_version": "1.5.0",
       "_model_name": "ProgressStyleModel",
       "_view_count": null,
       "_view_module": "@jupyter-widgets/base",
       "_view_module_version": "1.2.0",
       "_view_name": "StyleView",
       "bar_color": null,
       "description_width": ""
      }
     },
     "736d6ea9290246f9be4826f5e6bf60e7": {
      "model_module": "@jupyter-widgets/base",
      "model_module_version": "1.2.0",
      "model_name": "LayoutModel",
      "state": {
       "_model_module": "@jupyter-widgets/base",
       "_model_module_version": "1.2.0",
       "_model_name": "LayoutModel",
       "_view_count": null,
       "_view_module": "@jupyter-widgets/base",
       "_view_module_version": "1.2.0",
       "_view_name": "LayoutView",
       "align_content": null,
       "align_items": null,
       "align_self": null,
       "border": null,
       "bottom": null,
       "display": null,
       "flex": null,
       "flex_flow": null,
       "grid_area": null,
       "grid_auto_columns": null,
       "grid_auto_flow": null,
       "grid_auto_rows": null,
       "grid_column": null,
       "grid_gap": null,
       "grid_row": null,
       "grid_template_areas": null,
       "grid_template_columns": null,
       "grid_template_rows": null,
       "height": null,
       "justify_content": null,
       "justify_items": null,
       "left": null,
       "margin": null,
       "max_height": null,
       "max_width": null,
       "min_height": null,
       "min_width": null,
       "object_fit": null,
       "object_position": null,
       "order": null,
       "overflow": null,
       "overflow_x": null,
       "overflow_y": null,
       "padding": null,
       "right": null,
       "top": null,
       "visibility": null,
       "width": null
      }
     },
     "7595a6f5b82e4071b4915f21eb45010c": {
      "model_module": "@jupyter-widgets/base",
      "model_module_version": "1.2.0",
      "model_name": "LayoutModel",
      "state": {
       "_model_module": "@jupyter-widgets/base",
       "_model_module_version": "1.2.0",
       "_model_name": "LayoutModel",
       "_view_count": null,
       "_view_module": "@jupyter-widgets/base",
       "_view_module_version": "1.2.0",
       "_view_name": "LayoutView",
       "align_content": null,
       "align_items": null,
       "align_self": null,
       "border": null,
       "bottom": null,
       "display": null,
       "flex": null,
       "flex_flow": null,
       "grid_area": null,
       "grid_auto_columns": null,
       "grid_auto_flow": null,
       "grid_auto_rows": null,
       "grid_column": null,
       "grid_gap": null,
       "grid_row": null,
       "grid_template_areas": null,
       "grid_template_columns": null,
       "grid_template_rows": null,
       "height": null,
       "justify_content": null,
       "justify_items": null,
       "left": null,
       "margin": null,
       "max_height": null,
       "max_width": null,
       "min_height": null,
       "min_width": null,
       "object_fit": null,
       "object_position": null,
       "order": null,
       "overflow": null,
       "overflow_x": null,
       "overflow_y": null,
       "padding": null,
       "right": null,
       "top": null,
       "visibility": null,
       "width": null
      }
     },
     "7a56325042c145b48dd0aba0dc1297af": {
      "model_module": "@jupyter-widgets/base",
      "model_module_version": "1.2.0",
      "model_name": "LayoutModel",
      "state": {
       "_model_module": "@jupyter-widgets/base",
       "_model_module_version": "1.2.0",
       "_model_name": "LayoutModel",
       "_view_count": null,
       "_view_module": "@jupyter-widgets/base",
       "_view_module_version": "1.2.0",
       "_view_name": "LayoutView",
       "align_content": null,
       "align_items": null,
       "align_self": null,
       "border": null,
       "bottom": null,
       "display": null,
       "flex": null,
       "flex_flow": null,
       "grid_area": null,
       "grid_auto_columns": null,
       "grid_auto_flow": null,
       "grid_auto_rows": null,
       "grid_column": null,
       "grid_gap": null,
       "grid_row": null,
       "grid_template_areas": null,
       "grid_template_columns": null,
       "grid_template_rows": null,
       "height": null,
       "justify_content": null,
       "justify_items": null,
       "left": null,
       "margin": null,
       "max_height": null,
       "max_width": null,
       "min_height": null,
       "min_width": null,
       "object_fit": null,
       "object_position": null,
       "order": null,
       "overflow": null,
       "overflow_x": null,
       "overflow_y": null,
       "padding": null,
       "right": null,
       "top": null,
       "visibility": null,
       "width": null
      }
     },
     "7d59d1f172b2401eb0a5811da3cab888": {
      "model_module": "@jupyter-widgets/base",
      "model_module_version": "1.2.0",
      "model_name": "LayoutModel",
      "state": {
       "_model_module": "@jupyter-widgets/base",
       "_model_module_version": "1.2.0",
       "_model_name": "LayoutModel",
       "_view_count": null,
       "_view_module": "@jupyter-widgets/base",
       "_view_module_version": "1.2.0",
       "_view_name": "LayoutView",
       "align_content": null,
       "align_items": null,
       "align_self": null,
       "border": null,
       "bottom": null,
       "display": null,
       "flex": null,
       "flex_flow": null,
       "grid_area": null,
       "grid_auto_columns": null,
       "grid_auto_flow": null,
       "grid_auto_rows": null,
       "grid_column": null,
       "grid_gap": null,
       "grid_row": null,
       "grid_template_areas": null,
       "grid_template_columns": null,
       "grid_template_rows": null,
       "height": null,
       "justify_content": null,
       "justify_items": null,
       "left": null,
       "margin": null,
       "max_height": null,
       "max_width": null,
       "min_height": null,
       "min_width": null,
       "object_fit": null,
       "object_position": null,
       "order": null,
       "overflow": null,
       "overflow_x": null,
       "overflow_y": null,
       "padding": null,
       "right": null,
       "top": null,
       "visibility": null,
       "width": null
      }
     },
     "804454bc052946388abace5827d1f600": {
      "model_module": "@jupyter-widgets/base",
      "model_module_version": "1.2.0",
      "model_name": "LayoutModel",
      "state": {
       "_model_module": "@jupyter-widgets/base",
       "_model_module_version": "1.2.0",
       "_model_name": "LayoutModel",
       "_view_count": null,
       "_view_module": "@jupyter-widgets/base",
       "_view_module_version": "1.2.0",
       "_view_name": "LayoutView",
       "align_content": null,
       "align_items": null,
       "align_self": null,
       "border": null,
       "bottom": null,
       "display": null,
       "flex": null,
       "flex_flow": null,
       "grid_area": null,
       "grid_auto_columns": null,
       "grid_auto_flow": null,
       "grid_auto_rows": null,
       "grid_column": null,
       "grid_gap": null,
       "grid_row": null,
       "grid_template_areas": null,
       "grid_template_columns": null,
       "grid_template_rows": null,
       "height": null,
       "justify_content": null,
       "justify_items": null,
       "left": null,
       "margin": null,
       "max_height": null,
       "max_width": null,
       "min_height": null,
       "min_width": null,
       "object_fit": null,
       "object_position": null,
       "order": null,
       "overflow": null,
       "overflow_x": null,
       "overflow_y": null,
       "padding": null,
       "right": null,
       "top": null,
       "visibility": null,
       "width": null
      }
     },
     "823aeb1fc56a40489c7ee267f0e0e29e": {
      "model_module": "@jupyter-widgets/base",
      "model_module_version": "1.2.0",
      "model_name": "LayoutModel",
      "state": {
       "_model_module": "@jupyter-widgets/base",
       "_model_module_version": "1.2.0",
       "_model_name": "LayoutModel",
       "_view_count": null,
       "_view_module": "@jupyter-widgets/base",
       "_view_module_version": "1.2.0",
       "_view_name": "LayoutView",
       "align_content": null,
       "align_items": null,
       "align_self": null,
       "border": null,
       "bottom": null,
       "display": null,
       "flex": null,
       "flex_flow": null,
       "grid_area": null,
       "grid_auto_columns": null,
       "grid_auto_flow": null,
       "grid_auto_rows": null,
       "grid_column": null,
       "grid_gap": null,
       "grid_row": null,
       "grid_template_areas": null,
       "grid_template_columns": null,
       "grid_template_rows": null,
       "height": null,
       "justify_content": null,
       "justify_items": null,
       "left": null,
       "margin": null,
       "max_height": null,
       "max_width": null,
       "min_height": null,
       "min_width": null,
       "object_fit": null,
       "object_position": null,
       "order": null,
       "overflow": null,
       "overflow_x": null,
       "overflow_y": null,
       "padding": null,
       "right": null,
       "top": null,
       "visibility": null,
       "width": null
      }
     },
     "826f35a41b7642f0a366fb975da0813c": {
      "model_module": "@jupyter-widgets/base",
      "model_module_version": "1.2.0",
      "model_name": "LayoutModel",
      "state": {
       "_model_module": "@jupyter-widgets/base",
       "_model_module_version": "1.2.0",
       "_model_name": "LayoutModel",
       "_view_count": null,
       "_view_module": "@jupyter-widgets/base",
       "_view_module_version": "1.2.0",
       "_view_name": "LayoutView",
       "align_content": null,
       "align_items": null,
       "align_self": null,
       "border": null,
       "bottom": null,
       "display": null,
       "flex": null,
       "flex_flow": null,
       "grid_area": null,
       "grid_auto_columns": null,
       "grid_auto_flow": null,
       "grid_auto_rows": null,
       "grid_column": null,
       "grid_gap": null,
       "grid_row": null,
       "grid_template_areas": null,
       "grid_template_columns": null,
       "grid_template_rows": null,
       "height": null,
       "justify_content": null,
       "justify_items": null,
       "left": null,
       "margin": null,
       "max_height": null,
       "max_width": null,
       "min_height": null,
       "min_width": null,
       "object_fit": null,
       "object_position": null,
       "order": null,
       "overflow": null,
       "overflow_x": null,
       "overflow_y": null,
       "padding": null,
       "right": null,
       "top": null,
       "visibility": null,
       "width": null
      }
     },
     "894d7bfc90b1459397eba231ab771afe": {
      "model_module": "@jupyter-widgets/controls",
      "model_module_version": "1.5.0",
      "model_name": "HBoxModel",
      "state": {
       "_dom_classes": [],
       "_model_module": "@jupyter-widgets/controls",
       "_model_module_version": "1.5.0",
       "_model_name": "HBoxModel",
       "_view_count": null,
       "_view_module": "@jupyter-widgets/controls",
       "_view_module_version": "1.5.0",
       "_view_name": "HBoxView",
       "box_style": "",
       "children": [
        "IPY_MODEL_103ab532335c4a71a75a210c591a8055",
        "IPY_MODEL_6f64dabc5d7b482295ab8bad572cd5a0",
        "IPY_MODEL_03b63bb3af9b470b86b12e0153ef89f9"
       ],
       "layout": "IPY_MODEL_a068f502bc3d45eea571e23b73f1db59"
      }
     },
     "8af03b1881c44438811c294f0438f458": {
      "model_module": "@jupyter-widgets/controls",
      "model_module_version": "1.5.0",
      "model_name": "HTMLModel",
      "state": {
       "_dom_classes": [],
       "_model_module": "@jupyter-widgets/controls",
       "_model_module_version": "1.5.0",
       "_model_name": "HTMLModel",
       "_view_count": null,
       "_view_module": "@jupyter-widgets/controls",
       "_view_module_version": "1.5.0",
       "_view_name": "HTMLView",
       "description": "",
       "description_tooltip": null,
       "layout": "IPY_MODEL_736d6ea9290246f9be4826f5e6bf60e7",
       "placeholder": "​",
       "style": "IPY_MODEL_aa227854458a4b71871d6301db97453e",
       "value": "Downloading (…)solve/main/vocab.txt: 100%"
      }
     },
     "99863c71a875463b9fb4dd2c946df8f3": {
      "model_module": "@jupyter-widgets/controls",
      "model_module_version": "1.5.0",
      "model_name": "HTMLModel",
      "state": {
       "_dom_classes": [],
       "_model_module": "@jupyter-widgets/controls",
       "_model_module_version": "1.5.0",
       "_model_name": "HTMLModel",
       "_view_count": null,
       "_view_module": "@jupyter-widgets/controls",
       "_view_module_version": "1.5.0",
       "_view_name": "HTMLView",
       "description": "",
       "description_tooltip": null,
       "layout": "IPY_MODEL_826f35a41b7642f0a366fb975da0813c",
       "placeholder": "​",
       "style": "IPY_MODEL_6a9e86a2e7a4438f96581ac26a5eb714",
       "value": "Downloading (…)okenizer_config.json: 100%"
      }
     },
     "9dca1d8be8304762afba2888708fd68a": {
      "model_module": "@jupyter-widgets/controls",
      "model_module_version": "1.5.0",
      "model_name": "HTMLModel",
      "state": {
       "_dom_classes": [],
       "_model_module": "@jupyter-widgets/controls",
       "_model_module_version": "1.5.0",
       "_model_name": "HTMLModel",
       "_view_count": null,
       "_view_module": "@jupyter-widgets/controls",
       "_view_module_version": "1.5.0",
       "_view_name": "HTMLView",
       "description": "",
       "description_tooltip": null,
       "layout": "IPY_MODEL_823aeb1fc56a40489c7ee267f0e0e29e",
       "placeholder": "​",
       "style": "IPY_MODEL_4984522df269450b8cc8459656a52e4c",
       "value": " 438M/438M [00:08&lt;00:00, 59.7MB/s]"
      }
     },
     "a068f502bc3d45eea571e23b73f1db59": {
      "model_module": "@jupyter-widgets/base",
      "model_module_version": "1.2.0",
      "model_name": "LayoutModel",
      "state": {
       "_model_module": "@jupyter-widgets/base",
       "_model_module_version": "1.2.0",
       "_model_name": "LayoutModel",
       "_view_count": null,
       "_view_module": "@jupyter-widgets/base",
       "_view_module_version": "1.2.0",
       "_view_name": "LayoutView",
       "align_content": null,
       "align_items": null,
       "align_self": null,
       "border": null,
       "bottom": null,
       "display": null,
       "flex": null,
       "flex_flow": null,
       "grid_area": null,
       "grid_auto_columns": null,
       "grid_auto_flow": null,
       "grid_auto_rows": null,
       "grid_column": null,
       "grid_gap": null,
       "grid_row": null,
       "grid_template_areas": null,
       "grid_template_columns": null,
       "grid_template_rows": null,
       "height": null,
       "justify_content": null,
       "justify_items": null,
       "left": null,
       "margin": null,
       "max_height": null,
       "max_width": null,
       "min_height": null,
       "min_width": null,
       "object_fit": null,
       "object_position": null,
       "order": null,
       "overflow": null,
       "overflow_x": null,
       "overflow_y": null,
       "padding": null,
       "right": null,
       "top": null,
       "visibility": null,
       "width": null
      }
     },
     "aa227854458a4b71871d6301db97453e": {
      "model_module": "@jupyter-widgets/controls",
      "model_module_version": "1.5.0",
      "model_name": "DescriptionStyleModel",
      "state": {
       "_model_module": "@jupyter-widgets/controls",
       "_model_module_version": "1.5.0",
       "_model_name": "DescriptionStyleModel",
       "_view_count": null,
       "_view_module": "@jupyter-widgets/base",
       "_view_module_version": "1.2.0",
       "_view_name": "StyleView",
       "description_width": ""
      }
     },
     "b59e2959cd8e4566abecccc6f29b9241": {
      "model_module": "@jupyter-widgets/controls",
      "model_module_version": "1.5.0",
      "model_name": "DescriptionStyleModel",
      "state": {
       "_model_module": "@jupyter-widgets/controls",
       "_model_module_version": "1.5.0",
       "_model_name": "DescriptionStyleModel",
       "_view_count": null,
       "_view_module": "@jupyter-widgets/base",
       "_view_module_version": "1.2.0",
       "_view_name": "StyleView",
       "description_width": ""
      }
     },
     "b6050df1a1db4b048f0aff6816cb0be5": {
      "model_module": "@jupyter-widgets/controls",
      "model_module_version": "1.5.0",
      "model_name": "HTMLModel",
      "state": {
       "_dom_classes": [],
       "_model_module": "@jupyter-widgets/controls",
       "_model_module_version": "1.5.0",
       "_model_name": "HTMLModel",
       "_view_count": null,
       "_view_module": "@jupyter-widgets/controls",
       "_view_module_version": "1.5.0",
       "_view_name": "HTMLView",
       "description": "",
       "description_tooltip": null,
       "layout": "IPY_MODEL_7a56325042c145b48dd0aba0dc1297af",
       "placeholder": "​",
       "style": "IPY_MODEL_0212fc2bc22f43f685959a663f943507",
       "value": "pytorch_model.bin: 100%"
      }
     },
     "b7aa4db7d2f54e0eb6cd747aacbf5354": {
      "model_module": "@jupyter-widgets/controls",
      "model_module_version": "1.5.0",
      "model_name": "HBoxModel",
      "state": {
       "_dom_classes": [],
       "_model_module": "@jupyter-widgets/controls",
       "_model_module_version": "1.5.0",
       "_model_name": "HBoxModel",
       "_view_count": null,
       "_view_module": "@jupyter-widgets/controls",
       "_view_module_version": "1.5.0",
       "_view_name": "HBoxView",
       "box_style": "",
       "children": [
        "IPY_MODEL_8af03b1881c44438811c294f0438f458",
        "IPY_MODEL_d82b5cff4641407a96d34e6421478674",
        "IPY_MODEL_dc573ac8127b4cd3b02bffebc3990c78"
       ],
       "layout": "IPY_MODEL_41a8c3b88b404fde9492669355eb71e6"
      }
     },
     "c745c7167edc47579562e2eefac0409a": {
      "model_module": "@jupyter-widgets/controls",
      "model_module_version": "1.5.0",
      "model_name": "HTMLModel",
      "state": {
       "_dom_classes": [],
       "_model_module": "@jupyter-widgets/controls",
       "_model_module_version": "1.5.0",
       "_model_name": "HTMLModel",
       "_view_count": null,
       "_view_module": "@jupyter-widgets/controls",
       "_view_module_version": "1.5.0",
       "_view_name": "HTMLView",
       "description": "",
       "description_tooltip": null,
       "layout": "IPY_MODEL_6fbe8092b40542d9967e9fd5a30750b7",
       "placeholder": "​",
       "style": "IPY_MODEL_de73bb366d5045baadcb6bdb9692d6c2",
       "value": " 59.0/59.0 [00:00&lt;00:00, 4.35kB/s]"
      }
     },
     "c76cbb8708fb46d283fc9ed6e61cdf8d": {
      "model_module": "@jupyter-widgets/controls",
      "model_module_version": "1.5.0",
      "model_name": "ProgressStyleModel",
      "state": {
       "_model_module": "@jupyter-widgets/controls",
       "_model_module_version": "1.5.0",
       "_model_name": "ProgressStyleModel",
       "_view_count": null,
       "_view_module": "@jupyter-widgets/base",
       "_view_module_version": "1.2.0",
       "_view_name": "StyleView",
       "bar_color": null,
       "description_width": ""
      }
     },
     "d33905ca754e431da1b1a21e94486b3e": {
      "model_module": "@jupyter-widgets/controls",
      "model_module_version": "1.5.0",
      "model_name": "DescriptionStyleModel",
      "state": {
       "_model_module": "@jupyter-widgets/controls",
       "_model_module_version": "1.5.0",
       "_model_name": "DescriptionStyleModel",
       "_view_count": null,
       "_view_module": "@jupyter-widgets/base",
       "_view_module_version": "1.2.0",
       "_view_name": "StyleView",
       "description_width": ""
      }
     },
     "d3611def08184acd8bca4ca3752ac055": {
      "model_module": "@jupyter-widgets/controls",
      "model_module_version": "1.5.0",
      "model_name": "DescriptionStyleModel",
      "state": {
       "_model_module": "@jupyter-widgets/controls",
       "_model_module_version": "1.5.0",
       "_model_name": "DescriptionStyleModel",
       "_view_count": null,
       "_view_module": "@jupyter-widgets/base",
       "_view_module_version": "1.2.0",
       "_view_name": "StyleView",
       "description_width": ""
      }
     },
     "d82b5cff4641407a96d34e6421478674": {
      "model_module": "@jupyter-widgets/controls",
      "model_module_version": "1.5.0",
      "model_name": "FloatProgressModel",
      "state": {
       "_dom_classes": [],
       "_model_module": "@jupyter-widgets/controls",
       "_model_module_version": "1.5.0",
       "_model_name": "FloatProgressModel",
       "_view_count": null,
       "_view_module": "@jupyter-widgets/controls",
       "_view_module_version": "1.5.0",
       "_view_name": "ProgressView",
       "bar_style": "success",
       "description": "",
       "description_tooltip": null,
       "layout": "IPY_MODEL_4b15e9c76deb4dc89ea05842b13cb1a0",
       "max": 247333,
       "min": 0,
       "orientation": "horizontal",
       "style": "IPY_MODEL_4dc3a4ef0a774627894dd17077e058d7",
       "value": 247333
      }
     },
     "dc573ac8127b4cd3b02bffebc3990c78": {
      "model_module": "@jupyter-widgets/controls",
      "model_module_version": "1.5.0",
      "model_name": "HTMLModel",
      "state": {
       "_dom_classes": [],
       "_model_module": "@jupyter-widgets/controls",
       "_model_module_version": "1.5.0",
       "_model_name": "HTMLModel",
       "_view_count": null,
       "_view_module": "@jupyter-widgets/controls",
       "_view_module_version": "1.5.0",
       "_view_name": "HTMLView",
       "description": "",
       "description_tooltip": null,
       "layout": "IPY_MODEL_7595a6f5b82e4071b4915f21eb45010c",
       "placeholder": "​",
       "style": "IPY_MODEL_b59e2959cd8e4566abecccc6f29b9241",
       "value": " 247k/247k [00:00&lt;00:00, 5.21MB/s]"
      }
     },
     "dd56f3ef24054c9bb3aab8ae00a0f8e3": {
      "model_module": "@jupyter-widgets/controls",
      "model_module_version": "1.5.0",
      "model_name": "ProgressStyleModel",
      "state": {
       "_model_module": "@jupyter-widgets/controls",
       "_model_module_version": "1.5.0",
       "_model_name": "ProgressStyleModel",
       "_view_count": null,
       "_view_module": "@jupyter-widgets/base",
       "_view_module_version": "1.2.0",
       "_view_name": "StyleView",
       "bar_color": null,
       "description_width": ""
      }
     },
     "de73bb366d5045baadcb6bdb9692d6c2": {
      "model_module": "@jupyter-widgets/controls",
      "model_module_version": "1.5.0",
      "model_name": "DescriptionStyleModel",
      "state": {
       "_model_module": "@jupyter-widgets/controls",
       "_model_module_version": "1.5.0",
       "_model_name": "DescriptionStyleModel",
       "_view_count": null,
       "_view_module": "@jupyter-widgets/base",
       "_view_module_version": "1.2.0",
       "_view_name": "StyleView",
       "description_width": ""
      }
     },
     "e8d31ed8d2884aa88e9be5e034e05067": {
      "model_module": "@jupyter-widgets/controls",
      "model_module_version": "1.5.0",
      "model_name": "HTMLModel",
      "state": {
       "_dom_classes": [],
       "_model_module": "@jupyter-widgets/controls",
       "_model_module_version": "1.5.0",
       "_model_name": "HTMLModel",
       "_view_count": null,
       "_view_module": "@jupyter-widgets/controls",
       "_view_module_version": "1.5.0",
       "_view_name": "HTMLView",
       "description": "",
       "description_tooltip": null,
       "layout": "IPY_MODEL_2b155d68ce8b43f59e0cf372106aae52",
       "placeholder": "​",
       "style": "IPY_MODEL_d3611def08184acd8bca4ca3752ac055",
       "value": " 442M/442M [00:07&lt;00:00, 66.7MB/s]"
      }
     },
     "e8f69013eaa044128b1289358e763fe9": {
      "model_module": "@jupyter-widgets/controls",
      "model_module_version": "1.5.0",
      "model_name": "HTMLModel",
      "state": {
       "_dom_classes": [],
       "_model_module": "@jupyter-widgets/controls",
       "_model_module_version": "1.5.0",
       "_model_name": "HTMLModel",
       "_view_count": null,
       "_view_module": "@jupyter-widgets/controls",
       "_view_module_version": "1.5.0",
       "_view_name": "HTMLView",
       "description": "",
       "description_tooltip": null,
       "layout": "IPY_MODEL_7d59d1f172b2401eb0a5811da3cab888",
       "placeholder": "​",
       "style": "IPY_MODEL_357c9f3986b740d8b0cc05304c238966",
       "value": "Downloading model.safetensors: 100%"
      }
     }
    },
    "version_major": 2,
    "version_minor": 0
   }
  }
 },
 "nbformat": 4,
 "nbformat_minor": 5
}
